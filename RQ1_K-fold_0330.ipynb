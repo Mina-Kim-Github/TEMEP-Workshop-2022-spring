{
 "cells": [
  {
   "cell_type": "code",
   "execution_count": 1,
   "metadata": {
    "scrolled": false
   },
   "outputs": [],
   "source": [
    "from collections import Counter\n",
    "import warnings\n",
    "warnings.filterwarnings(action='ignore')\n",
    "\n",
    "import numpy as np\n",
    "import pandas as pd\n",
    "from pandas.api.types import is_numeric_dtype\n",
    "import matplotlib.pyplot as plt\n",
    "from sklearn.linear_model import LogisticRegression\n",
    "from sklearn.discriminant_analysis import LinearDiscriminantAnalysis, QuadraticDiscriminantAnalysis\n",
    "from sklearn.tree import DecisionTreeClassifier, plot_tree\n",
    "from sklearn.naive_bayes import GaussianNB\n",
    "from sklearn.svm import SVC\n",
    "from sklearn.ensemble import RandomForestClassifier, AdaBoostClassifier, GradientBoostingClassifier\n",
    "from sklearn.model_selection import train_test_split\n",
    "from sklearn.metrics import classification_report\n",
    "from sklearn.preprocessing import OneHotEncoder\n",
    "%matplotlib inline\n",
    "\n",
    "from sklearn import svm\n",
    "\n",
    "plt.rcParams[\"figure.figsize\"] = (10, 10)\n",
    "plt.rcParams[\"font.family\"] = 'NanumGothicCoding'\n",
    "\n",
    "from visualize import plot_confusion_matrix"
   ]
  },
  {
   "cell_type": "markdown",
   "metadata": {},
   "source": [
    "# Which one are you analyzing?"
   ]
  },
  {
   "cell_type": "markdown",
   "metadata": {},
   "source": [
    "## M_0"
   ]
  },
  {
   "cell_type": "code",
   "execution_count": 2,
   "metadata": {
    "scrolled": false
   },
   "outputs": [
    {
     "name": "stdout",
     "output_type": "stream",
     "text": [
      "(4128, 46)\n"
     ]
    },
    {
     "data": {
      "text/html": [
       "<div>\n",
       "<style scoped>\n",
       "    .dataframe tbody tr th:only-of-type {\n",
       "        vertical-align: middle;\n",
       "    }\n",
       "\n",
       "    .dataframe tbody tr th {\n",
       "        vertical-align: top;\n",
       "    }\n",
       "\n",
       "    .dataframe thead th {\n",
       "        text-align: right;\n",
       "    }\n",
       "</style>\n",
       "<table border=\"1\" class=\"dataframe\">\n",
       "  <thead>\n",
       "    <tr style=\"text-align: right;\">\n",
       "      <th></th>\n",
       "      <th>policy</th>\n",
       "      <th>eco</th>\n",
       "      <th>tech</th>\n",
       "      <th>age</th>\n",
       "      <th>gender</th>\n",
       "      <th>owning</th>\n",
       "      <th>mileage</th>\n",
       "      <th>family</th>\n",
       "      <th>job</th>\n",
       "      <th>wealth</th>\n",
       "      <th>...</th>\n",
       "      <th>diesel_fuel_cost</th>\n",
       "      <th>diesel_price</th>\n",
       "      <th>electric_car_class</th>\n",
       "      <th>electric_infra</th>\n",
       "      <th>electric_fuel_cost</th>\n",
       "      <th>electric_price</th>\n",
       "      <th>hydrogen_car_class</th>\n",
       "      <th>hydrogen_infra</th>\n",
       "      <th>hydrogen_fuel_cost</th>\n",
       "      <th>hydrogen_price</th>\n",
       "    </tr>\n",
       "  </thead>\n",
       "  <tbody>\n",
       "    <tr>\n",
       "      <th>0</th>\n",
       "      <td>3</td>\n",
       "      <td>3</td>\n",
       "      <td>2</td>\n",
       "      <td>31</td>\n",
       "      <td>1</td>\n",
       "      <td>1</td>\n",
       "      <td>10000</td>\n",
       "      <td>3</td>\n",
       "      <td>3</td>\n",
       "      <td>7</td>\n",
       "      <td>...</td>\n",
       "      <td>150</td>\n",
       "      <td>4000</td>\n",
       "      <td>1</td>\n",
       "      <td>50</td>\n",
       "      <td>100</td>\n",
       "      <td>4000</td>\n",
       "      <td>0</td>\n",
       "      <td>100</td>\n",
       "      <td>100</td>\n",
       "      <td>4000</td>\n",
       "    </tr>\n",
       "    <tr>\n",
       "      <th>1</th>\n",
       "      <td>3</td>\n",
       "      <td>3</td>\n",
       "      <td>2</td>\n",
       "      <td>31</td>\n",
       "      <td>1</td>\n",
       "      <td>1</td>\n",
       "      <td>10000</td>\n",
       "      <td>3</td>\n",
       "      <td>3</td>\n",
       "      <td>7</td>\n",
       "      <td>...</td>\n",
       "      <td>50</td>\n",
       "      <td>3000</td>\n",
       "      <td>1</td>\n",
       "      <td>50</td>\n",
       "      <td>50</td>\n",
       "      <td>4000</td>\n",
       "      <td>0</td>\n",
       "      <td>100</td>\n",
       "      <td>50</td>\n",
       "      <td>4000</td>\n",
       "    </tr>\n",
       "    <tr>\n",
       "      <th>2</th>\n",
       "      <td>3</td>\n",
       "      <td>3</td>\n",
       "      <td>2</td>\n",
       "      <td>31</td>\n",
       "      <td>1</td>\n",
       "      <td>1</td>\n",
       "      <td>10000</td>\n",
       "      <td>3</td>\n",
       "      <td>3</td>\n",
       "      <td>7</td>\n",
       "      <td>...</td>\n",
       "      <td>150</td>\n",
       "      <td>2000</td>\n",
       "      <td>1</td>\n",
       "      <td>100</td>\n",
       "      <td>50</td>\n",
       "      <td>5000</td>\n",
       "      <td>1</td>\n",
       "      <td>100</td>\n",
       "      <td>150</td>\n",
       "      <td>3000</td>\n",
       "    </tr>\n",
       "    <tr>\n",
       "      <th>3</th>\n",
       "      <td>3</td>\n",
       "      <td>3</td>\n",
       "      <td>2</td>\n",
       "      <td>31</td>\n",
       "      <td>1</td>\n",
       "      <td>1</td>\n",
       "      <td>10000</td>\n",
       "      <td>3</td>\n",
       "      <td>3</td>\n",
       "      <td>7</td>\n",
       "      <td>...</td>\n",
       "      <td>100</td>\n",
       "      <td>5000</td>\n",
       "      <td>1</td>\n",
       "      <td>100</td>\n",
       "      <td>150</td>\n",
       "      <td>5000</td>\n",
       "      <td>0</td>\n",
       "      <td>50</td>\n",
       "      <td>150</td>\n",
       "      <td>5000</td>\n",
       "    </tr>\n",
       "    <tr>\n",
       "      <th>4</th>\n",
       "      <td>3</td>\n",
       "      <td>3</td>\n",
       "      <td>2</td>\n",
       "      <td>31</td>\n",
       "      <td>1</td>\n",
       "      <td>1</td>\n",
       "      <td>10000</td>\n",
       "      <td>3</td>\n",
       "      <td>3</td>\n",
       "      <td>7</td>\n",
       "      <td>...</td>\n",
       "      <td>50</td>\n",
       "      <td>2000</td>\n",
       "      <td>0</td>\n",
       "      <td>100</td>\n",
       "      <td>100</td>\n",
       "      <td>2000</td>\n",
       "      <td>1</td>\n",
       "      <td>100</td>\n",
       "      <td>50</td>\n",
       "      <td>3000</td>\n",
       "    </tr>\n",
       "  </tbody>\n",
       "</table>\n",
       "<p>5 rows × 46 columns</p>\n",
       "</div>"
      ],
      "text/plain": [
       "   policy  eco  tech  age  gender  owning  mileage  family  job  wealth  ...  \\\n",
       "0       3    3     2   31       1       1    10000       3    3       7  ...   \n",
       "1       3    3     2   31       1       1    10000       3    3       7  ...   \n",
       "2       3    3     2   31       1       1    10000       3    3       7  ...   \n",
       "3       3    3     2   31       1       1    10000       3    3       7  ...   \n",
       "4       3    3     2   31       1       1    10000       3    3       7  ...   \n",
       "\n",
       "   diesel_fuel_cost  diesel_price  electric_car_class  electric_infra  \\\n",
       "0               150          4000                   1              50   \n",
       "1                50          3000                   1              50   \n",
       "2               150          2000                   1             100   \n",
       "3               100          5000                   1             100   \n",
       "4                50          2000                   0             100   \n",
       "\n",
       "   electric_fuel_cost  electric_price  hydrogen_car_class  hydrogen_infra  \\\n",
       "0                 100            4000                   0             100   \n",
       "1                  50            4000                   0             100   \n",
       "2                  50            5000                   1             100   \n",
       "3                 150            5000                   0              50   \n",
       "4                 100            2000                   1             100   \n",
       "\n",
       "   hydrogen_fuel_cost  hydrogen_price  \n",
       "0                 100            4000  \n",
       "1                  50            4000  \n",
       "2                 150            3000  \n",
       "3                 150            5000  \n",
       "4                  50            3000  \n",
       "\n",
       "[5 rows x 46 columns]"
      ]
     },
     "execution_count": 2,
     "metadata": {},
     "output_type": "execute_result"
    }
   ],
   "source": [
    "df = pd.read_csv('Data_M_0.csv')\n",
    "df = df.drop(['pid',\n",
    "              'Type',\n",
    "             'recent_by',\n",
    "             'own_sedan',\n",
    "             'own_suv',\n",
    "             'own_ice',\n",
    "             'own_zev',\n",
    "             'oldest_car',\n",
    "              \n",
    "             'gasoline_fuel_type',\n",
    "             'gasoline_old',\n",
    "              'diesel_fuel_type',\n",
    "             'diesel_old',\n",
    "              'electric_fuel_type',\n",
    "             'electric_old',\n",
    "              'hydrogen_fuel_type',\n",
    "             'hydrogen_old',\n",
    "             ],\n",
    "             axis='columns')\n",
    "print(df.shape)\n",
    "df.head()"
   ]
  },
  {
   "cell_type": "code",
   "execution_count": 3,
   "metadata": {
    "scrolled": false
   },
   "outputs": [],
   "source": [
    "NUMERICAL_COLUMNS = [\n",
    "    'policy',\n",
    "    'eco',\n",
    "    'tech',\n",
    "    'age',\n",
    "    'owning',\n",
    "    'mileage',\n",
    "    'family',\n",
    "    'wealth',\n",
    "\n",
    "    'gasoline_infra',\n",
    "    'gasoline_fuel_cost',\n",
    "    'gasoline_price',\n",
    "    'diesel_infra',\n",
    "    'diesel_fuel_cost',\n",
    "    'diesel_price',\n",
    "    'electric_infra',\n",
    "    'electric_fuel_cost',\n",
    "    'electric_price',\n",
    "    'hydrogen_infra',\n",
    "    'hydrogen_fuel_cost',\n",
    "    'hydrogen_price',\n",
    "]\n",
    "\n",
    "CATEGORICAL_COLUMNS= [\n",
    "    'gender',\n",
    "    'job',\n",
    "    \n",
    "    'Car1_fuel_type',\n",
    "    'Car1_car_class',\n",
    "    'Car1_infra',\n",
    "    'Car1_fuel_cost',\n",
    "    'Car1_price',\n",
    "    'Car1_old',\n",
    "    'Car2_fuel_type',\n",
    "    'Car2_car_class',\n",
    "    'Car2_infra',\n",
    "    'Car2_fuel_cost',\n",
    "    'Car2_price',\n",
    "    'Car2_old',\n",
    "    'Car3_fuel_type',\n",
    "    'Car3_car_class',\n",
    "    'Car3_infra',\n",
    "    'Car3_fuel_cost',\n",
    "    'Car3_price',\n",
    "    'Car3_old',\n",
    "    \n",
    "    'gasoline_car_class',\n",
    "    'diesel_car_class',\n",
    "    'electric_car_class',\n",
    "    'hydrogen_car_class',\n",
    "]\n",
    "TARGET_COLUMNS = [\n",
    "    'choice',\n",
    "]"
   ]
  },
  {
   "cell_type": "code",
   "execution_count": 4,
   "metadata": {
    "scrolled": false
   },
   "outputs": [],
   "source": [
    "target_names = [\n",
    "    'SQ',\n",
    "    'SQ_gasoline',\n",
    "    'SQ_diesel',\n",
    "    'SQ_electric',\n",
    "    'SQ_hydrogen',\n",
    "    '1_gasoline',\n",
    "    '1_diesel',\n",
    "    '1_electric',\n",
    "    '1_hydrogen',\n",
    "    '2_gasoline',\n",
    "    '2_diesel',\n",
    "    '2_electric',\n",
    "    '2_hydrogen',\n",
    "    '3_gasoline',\n",
    "    '3_diesel',\n",
    "    '3_electric',\n",
    "    '3_hydrogen',\n",
    "]"
   ]
  },
  {
   "cell_type": "markdown",
   "metadata": {},
   "source": [
    "## M_1"
   ]
  },
  {
   "cell_type": "code",
   "execution_count": 2,
   "metadata": {
    "scrolled": false
   },
   "outputs": [
    {
     "name": "stdout",
     "output_type": "stream",
     "text": [
      "(4128, 45)\n"
     ]
    },
    {
     "data": {
      "text/html": [
       "<div>\n",
       "<style scoped>\n",
       "    .dataframe tbody tr th:only-of-type {\n",
       "        vertical-align: middle;\n",
       "    }\n",
       "\n",
       "    .dataframe tbody tr th {\n",
       "        vertical-align: top;\n",
       "    }\n",
       "\n",
       "    .dataframe thead th {\n",
       "        text-align: right;\n",
       "    }\n",
       "</style>\n",
       "<table border=\"1\" class=\"dataframe\">\n",
       "  <thead>\n",
       "    <tr style=\"text-align: right;\">\n",
       "      <th></th>\n",
       "      <th>policy</th>\n",
       "      <th>eco</th>\n",
       "      <th>tech</th>\n",
       "      <th>age</th>\n",
       "      <th>gender</th>\n",
       "      <th>owning</th>\n",
       "      <th>mileage</th>\n",
       "      <th>family</th>\n",
       "      <th>job</th>\n",
       "      <th>wealth</th>\n",
       "      <th>...</th>\n",
       "      <th>diesel_fuel_cost</th>\n",
       "      <th>diesel_price</th>\n",
       "      <th>electric_car_class</th>\n",
       "      <th>electric_infra</th>\n",
       "      <th>electric_fuel_cost</th>\n",
       "      <th>electric_price</th>\n",
       "      <th>hydrogen_car_class</th>\n",
       "      <th>hydrogen_infra</th>\n",
       "      <th>hydrogen_fuel_cost</th>\n",
       "      <th>hydrogen_price</th>\n",
       "    </tr>\n",
       "  </thead>\n",
       "  <tbody>\n",
       "    <tr>\n",
       "      <th>0</th>\n",
       "      <td>3</td>\n",
       "      <td>3</td>\n",
       "      <td>2</td>\n",
       "      <td>31</td>\n",
       "      <td>1</td>\n",
       "      <td>1</td>\n",
       "      <td>10000</td>\n",
       "      <td>3</td>\n",
       "      <td>3</td>\n",
       "      <td>7</td>\n",
       "      <td>...</td>\n",
       "      <td>150</td>\n",
       "      <td>4000</td>\n",
       "      <td>1</td>\n",
       "      <td>50</td>\n",
       "      <td>100</td>\n",
       "      <td>4000</td>\n",
       "      <td>0</td>\n",
       "      <td>100</td>\n",
       "      <td>100</td>\n",
       "      <td>4000</td>\n",
       "    </tr>\n",
       "    <tr>\n",
       "      <th>1</th>\n",
       "      <td>3</td>\n",
       "      <td>3</td>\n",
       "      <td>2</td>\n",
       "      <td>31</td>\n",
       "      <td>1</td>\n",
       "      <td>1</td>\n",
       "      <td>10000</td>\n",
       "      <td>3</td>\n",
       "      <td>3</td>\n",
       "      <td>7</td>\n",
       "      <td>...</td>\n",
       "      <td>50</td>\n",
       "      <td>3000</td>\n",
       "      <td>1</td>\n",
       "      <td>50</td>\n",
       "      <td>50</td>\n",
       "      <td>4000</td>\n",
       "      <td>0</td>\n",
       "      <td>100</td>\n",
       "      <td>50</td>\n",
       "      <td>4000</td>\n",
       "    </tr>\n",
       "    <tr>\n",
       "      <th>2</th>\n",
       "      <td>3</td>\n",
       "      <td>3</td>\n",
       "      <td>2</td>\n",
       "      <td>31</td>\n",
       "      <td>1</td>\n",
       "      <td>1</td>\n",
       "      <td>10000</td>\n",
       "      <td>3</td>\n",
       "      <td>3</td>\n",
       "      <td>7</td>\n",
       "      <td>...</td>\n",
       "      <td>150</td>\n",
       "      <td>2000</td>\n",
       "      <td>1</td>\n",
       "      <td>100</td>\n",
       "      <td>50</td>\n",
       "      <td>5000</td>\n",
       "      <td>1</td>\n",
       "      <td>100</td>\n",
       "      <td>150</td>\n",
       "      <td>3000</td>\n",
       "    </tr>\n",
       "    <tr>\n",
       "      <th>3</th>\n",
       "      <td>3</td>\n",
       "      <td>3</td>\n",
       "      <td>2</td>\n",
       "      <td>31</td>\n",
       "      <td>1</td>\n",
       "      <td>1</td>\n",
       "      <td>10000</td>\n",
       "      <td>3</td>\n",
       "      <td>3</td>\n",
       "      <td>7</td>\n",
       "      <td>...</td>\n",
       "      <td>100</td>\n",
       "      <td>5000</td>\n",
       "      <td>1</td>\n",
       "      <td>100</td>\n",
       "      <td>150</td>\n",
       "      <td>5000</td>\n",
       "      <td>0</td>\n",
       "      <td>50</td>\n",
       "      <td>150</td>\n",
       "      <td>5000</td>\n",
       "    </tr>\n",
       "    <tr>\n",
       "      <th>4</th>\n",
       "      <td>3</td>\n",
       "      <td>3</td>\n",
       "      <td>2</td>\n",
       "      <td>31</td>\n",
       "      <td>1</td>\n",
       "      <td>1</td>\n",
       "      <td>10000</td>\n",
       "      <td>3</td>\n",
       "      <td>3</td>\n",
       "      <td>7</td>\n",
       "      <td>...</td>\n",
       "      <td>50</td>\n",
       "      <td>2000</td>\n",
       "      <td>0</td>\n",
       "      <td>100</td>\n",
       "      <td>100</td>\n",
       "      <td>2000</td>\n",
       "      <td>1</td>\n",
       "      <td>100</td>\n",
       "      <td>50</td>\n",
       "      <td>3000</td>\n",
       "    </tr>\n",
       "  </tbody>\n",
       "</table>\n",
       "<p>5 rows × 45 columns</p>\n",
       "</div>"
      ],
      "text/plain": [
       "   policy  eco  tech  age  gender  owning  mileage  family  job  wealth  ...  \\\n",
       "0       3    3     2   31       1       1    10000       3    3       7  ...   \n",
       "1       3    3     2   31       1       1    10000       3    3       7  ...   \n",
       "2       3    3     2   31       1       1    10000       3    3       7  ...   \n",
       "3       3    3     2   31       1       1    10000       3    3       7  ...   \n",
       "4       3    3     2   31       1       1    10000       3    3       7  ...   \n",
       "\n",
       "  diesel_fuel_cost  diesel_price  electric_car_class  electric_infra  \\\n",
       "0              150          4000                   1              50   \n",
       "1               50          3000                   1              50   \n",
       "2              150          2000                   1             100   \n",
       "3              100          5000                   1             100   \n",
       "4               50          2000                   0             100   \n",
       "\n",
       "   electric_fuel_cost  electric_price  hydrogen_car_class  hydrogen_infra  \\\n",
       "0                 100            4000                   0             100   \n",
       "1                  50            4000                   0             100   \n",
       "2                  50            5000                   1             100   \n",
       "3                 150            5000                   0              50   \n",
       "4                 100            2000                   1             100   \n",
       "\n",
       "   hydrogen_fuel_cost  hydrogen_price  \n",
       "0                 100            4000  \n",
       "1                  50            4000  \n",
       "2                 150            3000  \n",
       "3                 150            5000  \n",
       "4                  50            3000  \n",
       "\n",
       "[5 rows x 45 columns]"
      ]
     },
     "execution_count": 2,
     "metadata": {},
     "output_type": "execute_result"
    }
   ],
   "source": [
    "df = pd.read_csv('Data_M_1.csv')\n",
    "df = df.drop(['pid',\n",
    "              'Type',\n",
    "             'recent_by',\n",
    "             'own_sedan',\n",
    "             'own_suv',\n",
    "             'own_ice',\n",
    "             'own_zev',\n",
    "             'oldest_car',\n",
    "              \n",
    "             'gasoline_old',\n",
    "              'diesel_fuel_type',\n",
    "             'diesel_old',\n",
    "              'electric_fuel_type',\n",
    "             'electric_old',\n",
    "              'hydrogen_fuel_type',\n",
    "             'hydrogen_old',\n",
    "             ],\n",
    "             axis='columns')\n",
    "print(df.shape)\n",
    "df.head()"
   ]
  },
  {
   "cell_type": "code",
   "execution_count": 66,
   "metadata": {
    "scrolled": false
   },
   "outputs": [],
   "source": [
    "NUMERICAL_COLUMNS = [\n",
    "#     'policy',\n",
    "#     'eco',\n",
    "#     'tech',\n",
    "#     'age',\n",
    "#     'owning',\n",
    "#     'mileage',\n",
    "#     'family',\n",
    "#     'wealth',\n",
    "\n",
    "    'gasoline_infra',\n",
    "    'gasoline_fuel_cost',\n",
    "    'gasoline_price',\n",
    "    'diesel_infra',\n",
    "    'diesel_fuel_cost',\n",
    "    'diesel_price',\n",
    "    'electric_infra',\n",
    "    'electric_fuel_cost',\n",
    "    'electric_price',\n",
    "    'hydrogen_infra',\n",
    "    'hydrogen_fuel_cost',\n",
    "    'hydrogen_price',\n",
    "]\n",
    "\n",
    "CATEGORICAL_COLUMNS= [\n",
    "#     'gender',\n",
    "#     'job',\n",
    "    \n",
    "    'Car1_fuel_type',\n",
    "    'Car1_car_class',\n",
    "    'Car1_infra',\n",
    "    'Car1_fuel_cost',\n",
    "    'Car1_price',\n",
    "    'Car1_old',\n",
    "    'Car2_fuel_type',\n",
    "    'Car2_car_class',\n",
    "    'Car2_infra',\n",
    "    'Car2_fuel_cost',\n",
    "    'Car2_price',\n",
    "    'Car2_old',\n",
    "    'Car3_fuel_type',\n",
    "    'Car3_car_class',\n",
    "    'Car3_infra',\n",
    "    'Car3_fuel_cost',\n",
    "    'Car3_price',\n",
    "    'Car3_old',\n",
    "    \n",
    "    'gasoline_car_class',\n",
    "    'diesel_car_class',\n",
    "    'electric_car_class',\n",
    "    'hydrogen_car_class',\n",
    "]\n",
    "TARGET_COLUMNS = [\n",
    "    'answer',\n",
    "]"
   ]
  },
  {
   "cell_type": "code",
   "execution_count": 67,
   "metadata": {
    "scrolled": false
   },
   "outputs": [],
   "source": [
    "target_names = [\n",
    "    'gasoline',\n",
    "    'diesel',\n",
    "    'electric',\n",
    "    'hydrogen',\n",
    "]"
   ]
  },
  {
   "cell_type": "markdown",
   "metadata": {},
   "source": [
    "# M_2"
   ]
  },
  {
   "cell_type": "code",
   "execution_count": 2,
   "metadata": {
    "scrolled": false
   },
   "outputs": [
    {
     "name": "stdout",
     "output_type": "stream",
     "text": [
      "(4128, 33)\n"
     ]
    },
    {
     "data": {
      "text/html": [
       "<div>\n",
       "<style scoped>\n",
       "    .dataframe tbody tr th:only-of-type {\n",
       "        vertical-align: middle;\n",
       "    }\n",
       "\n",
       "    .dataframe tbody tr th {\n",
       "        vertical-align: top;\n",
       "    }\n",
       "\n",
       "    .dataframe thead th {\n",
       "        text-align: right;\n",
       "    }\n",
       "</style>\n",
       "<table border=\"1\" class=\"dataframe\">\n",
       "  <thead>\n",
       "    <tr style=\"text-align: right;\">\n",
       "      <th></th>\n",
       "      <th>policy</th>\n",
       "      <th>eco</th>\n",
       "      <th>tech</th>\n",
       "      <th>age</th>\n",
       "      <th>gender</th>\n",
       "      <th>owning</th>\n",
       "      <th>mileage</th>\n",
       "      <th>family</th>\n",
       "      <th>job</th>\n",
       "      <th>wealth</th>\n",
       "      <th>...</th>\n",
       "      <th>Car3_fuel_type</th>\n",
       "      <th>Car3_car_class</th>\n",
       "      <th>Car3_infra</th>\n",
       "      <th>Car3_fuel_cost</th>\n",
       "      <th>Car3_price</th>\n",
       "      <th>Car3_old</th>\n",
       "      <th>p_infra</th>\n",
       "      <th>p_class</th>\n",
       "      <th>p_fuel_cost</th>\n",
       "      <th>p_price</th>\n",
       "    </tr>\n",
       "  </thead>\n",
       "  <tbody>\n",
       "    <tr>\n",
       "      <th>0</th>\n",
       "      <td>3</td>\n",
       "      <td>3</td>\n",
       "      <td>2</td>\n",
       "      <td>31</td>\n",
       "      <td>1</td>\n",
       "      <td>1</td>\n",
       "      <td>10000</td>\n",
       "      <td>3</td>\n",
       "      <td>3</td>\n",
       "      <td>7</td>\n",
       "      <td>...</td>\n",
       "      <td>0</td>\n",
       "      <td>0</td>\n",
       "      <td>0</td>\n",
       "      <td>0</td>\n",
       "      <td>0</td>\n",
       "      <td>0</td>\n",
       "      <td>50</td>\n",
       "      <td>1</td>\n",
       "      <td>50</td>\n",
       "      <td>4000</td>\n",
       "    </tr>\n",
       "    <tr>\n",
       "      <th>1</th>\n",
       "      <td>3</td>\n",
       "      <td>3</td>\n",
       "      <td>2</td>\n",
       "      <td>31</td>\n",
       "      <td>1</td>\n",
       "      <td>1</td>\n",
       "      <td>10000</td>\n",
       "      <td>3</td>\n",
       "      <td>3</td>\n",
       "      <td>7</td>\n",
       "      <td>...</td>\n",
       "      <td>0</td>\n",
       "      <td>0</td>\n",
       "      <td>0</td>\n",
       "      <td>0</td>\n",
       "      <td>0</td>\n",
       "      <td>0</td>\n",
       "      <td>100</td>\n",
       "      <td>1</td>\n",
       "      <td>50</td>\n",
       "      <td>5000</td>\n",
       "    </tr>\n",
       "    <tr>\n",
       "      <th>2</th>\n",
       "      <td>3</td>\n",
       "      <td>3</td>\n",
       "      <td>2</td>\n",
       "      <td>31</td>\n",
       "      <td>1</td>\n",
       "      <td>1</td>\n",
       "      <td>10000</td>\n",
       "      <td>3</td>\n",
       "      <td>3</td>\n",
       "      <td>7</td>\n",
       "      <td>...</td>\n",
       "      <td>0</td>\n",
       "      <td>0</td>\n",
       "      <td>0</td>\n",
       "      <td>0</td>\n",
       "      <td>0</td>\n",
       "      <td>0</td>\n",
       "      <td>100</td>\n",
       "      <td>1</td>\n",
       "      <td>150</td>\n",
       "      <td>5000</td>\n",
       "    </tr>\n",
       "    <tr>\n",
       "      <th>3</th>\n",
       "      <td>3</td>\n",
       "      <td>3</td>\n",
       "      <td>2</td>\n",
       "      <td>31</td>\n",
       "      <td>1</td>\n",
       "      <td>1</td>\n",
       "      <td>10000</td>\n",
       "      <td>3</td>\n",
       "      <td>3</td>\n",
       "      <td>7</td>\n",
       "      <td>...</td>\n",
       "      <td>0</td>\n",
       "      <td>0</td>\n",
       "      <td>0</td>\n",
       "      <td>0</td>\n",
       "      <td>0</td>\n",
       "      <td>0</td>\n",
       "      <td>100</td>\n",
       "      <td>1</td>\n",
       "      <td>50</td>\n",
       "      <td>2000</td>\n",
       "    </tr>\n",
       "    <tr>\n",
       "      <th>4</th>\n",
       "      <td>3</td>\n",
       "      <td>3</td>\n",
       "      <td>2</td>\n",
       "      <td>31</td>\n",
       "      <td>1</td>\n",
       "      <td>1</td>\n",
       "      <td>10000</td>\n",
       "      <td>3</td>\n",
       "      <td>3</td>\n",
       "      <td>7</td>\n",
       "      <td>...</td>\n",
       "      <td>0</td>\n",
       "      <td>0</td>\n",
       "      <td>0</td>\n",
       "      <td>0</td>\n",
       "      <td>0</td>\n",
       "      <td>0</td>\n",
       "      <td>50</td>\n",
       "      <td>2</td>\n",
       "      <td>50</td>\n",
       "      <td>5000</td>\n",
       "    </tr>\n",
       "  </tbody>\n",
       "</table>\n",
       "<p>5 rows × 33 columns</p>\n",
       "</div>"
      ],
      "text/plain": [
       "   policy  eco  tech  age  gender  owning  mileage  family  job  wealth  ...  \\\n",
       "0       3    3     2   31       1       1    10000       3    3       7  ...   \n",
       "1       3    3     2   31       1       1    10000       3    3       7  ...   \n",
       "2       3    3     2   31       1       1    10000       3    3       7  ...   \n",
       "3       3    3     2   31       1       1    10000       3    3       7  ...   \n",
       "4       3    3     2   31       1       1    10000       3    3       7  ...   \n",
       "\n",
       "   Car3_fuel_type  Car3_car_class  Car3_infra  Car3_fuel_cost  Car3_price  \\\n",
       "0               0               0           0               0           0   \n",
       "1               0               0           0               0           0   \n",
       "2               0               0           0               0           0   \n",
       "3               0               0           0               0           0   \n",
       "4               0               0           0               0           0   \n",
       "\n",
       "   Car3_old  p_infra  p_class  p_fuel_cost  p_price  \n",
       "0         0       50        1           50     4000  \n",
       "1         0      100        1           50     5000  \n",
       "2         0      100        1          150     5000  \n",
       "3         0      100        1           50     2000  \n",
       "4         0       50        2           50     5000  \n",
       "\n",
       "[5 rows x 33 columns]"
      ]
     },
     "execution_count": 2,
     "metadata": {},
     "output_type": "execute_result"
    }
   ],
   "source": [
    "df = pd.read_csv('Data_M_2.csv')\n",
    "df = df.drop(['pid',\n",
    "              'Type',\n",
    "             'recent_by',\n",
    "             'own_sedan',\n",
    "             'own_suv',\n",
    "             'own_ice',\n",
    "             'own_zev',\n",
    "             'oldest_car',\n",
    "             ],\n",
    "             axis='columns')\n",
    "print(df.shape)\n",
    "df.head()"
   ]
  },
  {
   "cell_type": "code",
   "execution_count": 3,
   "metadata": {
    "scrolled": false
   },
   "outputs": [],
   "source": [
    "NUMERICAL_COLUMNS = [\n",
    "#     'policy',\n",
    "#     'eco',\n",
    "#     'tech',\n",
    "#     'age',\n",
    "#     'owning',\n",
    "#     'mileage',\n",
    "#     'family',\n",
    "#     'wealth',\n",
    "    \n",
    "    'p_infra',\n",
    "    'p_class',\n",
    "    'p_fuel_cost',\n",
    "    'p_price',\n",
    "]\n",
    "\n",
    "CATEGORICAL_COLUMNS= [\n",
    "#     'gender',\n",
    "#     'job',\n",
    "    \n",
    "    'Car1_fuel_type',\n",
    "    'Car1_car_class',\n",
    "    'Car1_infra',\n",
    "    'Car1_fuel_cost',\n",
    "    'Car1_price',\n",
    "    'Car1_old',\n",
    "    'Car2_fuel_type',\n",
    "    'Car2_car_class',\n",
    "    'Car2_infra',\n",
    "    'Car2_fuel_cost',\n",
    "    'Car2_price',\n",
    "    'Car2_old',\n",
    "    'Car3_fuel_type',\n",
    "    'Car3_car_class',\n",
    "    'Car3_infra',\n",
    "    'Car3_fuel_cost',\n",
    "    'Car3_price',\n",
    "    'Car3_old',\n",
    "]\n",
    "TARGET_COLUMNS = [\n",
    "    'choice',\n",
    "]"
   ]
  },
  {
   "cell_type": "code",
   "execution_count": 4,
   "metadata": {
    "scrolled": false
   },
   "outputs": [],
   "source": [
    "target_names = [\n",
    "    'Not Purchasing',\n",
    "    'Additional Purchase',\n",
    "    'Exchanging Purchase',\n",
    "]"
   ]
  },
  {
   "cell_type": "markdown",
   "metadata": {},
   "source": [
    "# M_3"
   ]
  },
  {
   "cell_type": "code",
   "execution_count": 339,
   "metadata": {
    "scrolled": false
   },
   "outputs": [
    {
     "name": "stdout",
     "output_type": "stream",
     "text": [
      "(378, 34)\n"
     ]
    },
    {
     "data": {
      "text/html": [
       "<div>\n",
       "<style scoped>\n",
       "    .dataframe tbody tr th:only-of-type {\n",
       "        vertical-align: middle;\n",
       "    }\n",
       "\n",
       "    .dataframe tbody tr th {\n",
       "        vertical-align: top;\n",
       "    }\n",
       "\n",
       "    .dataframe thead th {\n",
       "        text-align: right;\n",
       "    }\n",
       "</style>\n",
       "<table border=\"1\" class=\"dataframe\">\n",
       "  <thead>\n",
       "    <tr style=\"text-align: right;\">\n",
       "      <th></th>\n",
       "      <th>policy</th>\n",
       "      <th>eco</th>\n",
       "      <th>tech</th>\n",
       "      <th>age</th>\n",
       "      <th>gender</th>\n",
       "      <th>owning</th>\n",
       "      <th>mileage</th>\n",
       "      <th>family</th>\n",
       "      <th>job</th>\n",
       "      <th>wealth</th>\n",
       "      <th>...</th>\n",
       "      <th>Car3_car_class</th>\n",
       "      <th>Car3_infra</th>\n",
       "      <th>Car3_fuel_cost</th>\n",
       "      <th>Car3_price</th>\n",
       "      <th>Car3_old</th>\n",
       "      <th>p_fuel_type</th>\n",
       "      <th>p_infra</th>\n",
       "      <th>p_class</th>\n",
       "      <th>p_fuel_cost</th>\n",
       "      <th>p_price</th>\n",
       "    </tr>\n",
       "  </thead>\n",
       "  <tbody>\n",
       "    <tr>\n",
       "      <th>0</th>\n",
       "      <td>3</td>\n",
       "      <td>4</td>\n",
       "      <td>3</td>\n",
       "      <td>56</td>\n",
       "      <td>1</td>\n",
       "      <td>2</td>\n",
       "      <td>30000</td>\n",
       "      <td>2</td>\n",
       "      <td>9</td>\n",
       "      <td>4</td>\n",
       "      <td>...</td>\n",
       "      <td>0</td>\n",
       "      <td>0</td>\n",
       "      <td>0</td>\n",
       "      <td>0</td>\n",
       "      <td>0</td>\n",
       "      <td>3</td>\n",
       "      <td>50</td>\n",
       "      <td>1</td>\n",
       "      <td>50</td>\n",
       "      <td>4000</td>\n",
       "    </tr>\n",
       "    <tr>\n",
       "      <th>1</th>\n",
       "      <td>3</td>\n",
       "      <td>4</td>\n",
       "      <td>3</td>\n",
       "      <td>56</td>\n",
       "      <td>1</td>\n",
       "      <td>2</td>\n",
       "      <td>30000</td>\n",
       "      <td>2</td>\n",
       "      <td>9</td>\n",
       "      <td>4</td>\n",
       "      <td>...</td>\n",
       "      <td>0</td>\n",
       "      <td>0</td>\n",
       "      <td>0</td>\n",
       "      <td>0</td>\n",
       "      <td>0</td>\n",
       "      <td>3</td>\n",
       "      <td>100</td>\n",
       "      <td>1</td>\n",
       "      <td>50</td>\n",
       "      <td>5000</td>\n",
       "    </tr>\n",
       "    <tr>\n",
       "      <th>2</th>\n",
       "      <td>3</td>\n",
       "      <td>4</td>\n",
       "      <td>3</td>\n",
       "      <td>56</td>\n",
       "      <td>1</td>\n",
       "      <td>2</td>\n",
       "      <td>30000</td>\n",
       "      <td>2</td>\n",
       "      <td>9</td>\n",
       "      <td>4</td>\n",
       "      <td>...</td>\n",
       "      <td>0</td>\n",
       "      <td>0</td>\n",
       "      <td>0</td>\n",
       "      <td>0</td>\n",
       "      <td>0</td>\n",
       "      <td>3</td>\n",
       "      <td>100</td>\n",
       "      <td>1</td>\n",
       "      <td>150</td>\n",
       "      <td>5000</td>\n",
       "    </tr>\n",
       "    <tr>\n",
       "      <th>3</th>\n",
       "      <td>3</td>\n",
       "      <td>4</td>\n",
       "      <td>3</td>\n",
       "      <td>56</td>\n",
       "      <td>1</td>\n",
       "      <td>2</td>\n",
       "      <td>30000</td>\n",
       "      <td>2</td>\n",
       "      <td>9</td>\n",
       "      <td>4</td>\n",
       "      <td>...</td>\n",
       "      <td>0</td>\n",
       "      <td>0</td>\n",
       "      <td>0</td>\n",
       "      <td>0</td>\n",
       "      <td>0</td>\n",
       "      <td>3</td>\n",
       "      <td>100</td>\n",
       "      <td>2</td>\n",
       "      <td>100</td>\n",
       "      <td>2000</td>\n",
       "    </tr>\n",
       "    <tr>\n",
       "      <th>4</th>\n",
       "      <td>3</td>\n",
       "      <td>4</td>\n",
       "      <td>3</td>\n",
       "      <td>56</td>\n",
       "      <td>1</td>\n",
       "      <td>2</td>\n",
       "      <td>30000</td>\n",
       "      <td>2</td>\n",
       "      <td>9</td>\n",
       "      <td>4</td>\n",
       "      <td>...</td>\n",
       "      <td>0</td>\n",
       "      <td>0</td>\n",
       "      <td>0</td>\n",
       "      <td>0</td>\n",
       "      <td>0</td>\n",
       "      <td>3</td>\n",
       "      <td>10</td>\n",
       "      <td>2</td>\n",
       "      <td>150</td>\n",
       "      <td>3000</td>\n",
       "    </tr>\n",
       "  </tbody>\n",
       "</table>\n",
       "<p>5 rows × 34 columns</p>\n",
       "</div>"
      ],
      "text/plain": [
       "   policy  eco  tech  age  gender  owning  mileage  family  job  wealth  ...  \\\n",
       "0       3    4     3   56       1       2    30000       2    9       4  ...   \n",
       "1       3    4     3   56       1       2    30000       2    9       4  ...   \n",
       "2       3    4     3   56       1       2    30000       2    9       4  ...   \n",
       "3       3    4     3   56       1       2    30000       2    9       4  ...   \n",
       "4       3    4     3   56       1       2    30000       2    9       4  ...   \n",
       "\n",
       "   Car3_car_class  Car3_infra  Car3_fuel_cost  Car3_price  Car3_old  \\\n",
       "0               0           0               0           0         0   \n",
       "1               0           0               0           0         0   \n",
       "2               0           0               0           0         0   \n",
       "3               0           0               0           0         0   \n",
       "4               0           0               0           0         0   \n",
       "\n",
       "   p_fuel_type  p_infra  p_class  p_fuel_cost  p_price  \n",
       "0            3       50        1           50     4000  \n",
       "1            3      100        1           50     5000  \n",
       "2            3      100        1          150     5000  \n",
       "3            3      100        2          100     2000  \n",
       "4            3       10        2          150     3000  \n",
       "\n",
       "[5 rows x 34 columns]"
      ]
     },
     "execution_count": 339,
     "metadata": {},
     "output_type": "execute_result"
    }
   ],
   "source": [
    "df = pd.read_csv('Data_M_3.csv')\n",
    "df = df.drop(['pid',\n",
    "              'Type',\n",
    "             'recent_by',\n",
    "             'own_sedan',\n",
    "             'own_suv',\n",
    "             'own_ice',\n",
    "             'own_zev',\n",
    "             'oldest_car',\n",
    "             ],\n",
    "             axis='columns')\n",
    "print(df.shape)\n",
    "df.head()"
   ]
  },
  {
   "cell_type": "code",
   "execution_count": 409,
   "metadata": {
    "scrolled": false
   },
   "outputs": [],
   "source": [
    "NUMERICAL_COLUMNS = [\n",
    "#     'policy',\n",
    "#     'eco',\n",
    "#     'tech',\n",
    "#     'age',\n",
    "#     'owning',\n",
    "#     'mileage',\n",
    "#     'family',\n",
    "#     'wealth',\n",
    "    \n",
    "#     'p_infra',\n",
    "#     'p_class',\n",
    "#     'p_fuel_cost',\n",
    "#     'p_price',\n",
    "]\n",
    "\n",
    "CATEGORICAL_COLUMNS= [\n",
    "#     'gender',\n",
    "#     'job',\n",
    "    \n",
    "    'Car1_fuel_type',\n",
    "    'Car1_car_class',\n",
    "    'Car1_infra',\n",
    "    'Car1_fuel_cost',\n",
    "    'Car1_price',\n",
    "    'Car1_old',\n",
    "    'Car2_fuel_type',\n",
    "    'Car2_car_class',\n",
    "    'Car2_infra',\n",
    "    'Car2_fuel_cost',\n",
    "    'Car2_price',\n",
    "    'Car2_old',\n",
    "    'Car3_fuel_type',\n",
    "    'Car3_car_class',\n",
    "    'Car3_infra',\n",
    "    'Car3_fuel_cost',\n",
    "    'Car3_price',\n",
    "    'Car3_old',\n",
    "]\n",
    "TARGET_COLUMNS = [\n",
    "    'choice',\n",
    "]"
   ]
  },
  {
   "cell_type": "code",
   "execution_count": 410,
   "metadata": {
    "scrolled": false
   },
   "outputs": [],
   "source": [
    "target_names = [\n",
    "    'Car1',\n",
    "    'Car2',\n",
    "    'Car3',\n",
    "]"
   ]
  },
  {
   "cell_type": "markdown",
   "metadata": {},
   "source": [
    "# Analyzing Starts Here"
   ]
  },
  {
   "cell_type": "code",
   "execution_count": 5,
   "metadata": {
    "scrolled": false
   },
   "outputs": [
    {
     "name": "stdout",
     "output_type": "stream",
     "text": [
      "(4128, 78) (4128,)\n"
     ]
    }
   ],
   "source": [
    "#BINARY = False\n",
    "TARGET_COLUMN = TARGET_COLUMNS[0]\n",
    "\n",
    "FEATURE_NAMES = NUMERICAL_COLUMNS[:]\n",
    "X_numerical = df[NUMERICAL_COLUMNS].values\n",
    "\n",
    "num_categories = []\n",
    "X_categorical = []\n",
    "for column in CATEGORICAL_COLUMNS:\n",
    "    df_column = df[column]\n",
    "    X_column = df_column.map({value:i for i, value in enumerate(sorted(list(set(df_column))))}).values\n",
    "    X_categorical.append(X_column.reshape(-1, 1))\n",
    "    num_categories.append(len(set(X_column)))\n",
    "#    print(FEATURE_NAMES)\n",
    "#    print(column)\n",
    "#    print(df_column)\n",
    "    FEATURE_NAMES += [column + '_' + str(value) for value in sorted(list(set(df_column)))]\n",
    "X_categorical = np.hstack(X_categorical)\n",
    "\n",
    "one_hot_encoder = OneHotEncoder()\n",
    "X_categorical = one_hot_encoder.fit_transform(\n",
    "    X_categorical\n",
    ").toarray()\n",
    "assert sum(num_categories) == X_categorical.shape[1]\n",
    "\n",
    "X = np.hstack([X_numerical, X_categorical])\n",
    "assert X.shape[1] == len(FEATURE_NAMES)\n",
    "\n",
    "# if BINARY:\n",
    "#     y = (df[TARGET_COLUMN].values == 4).astype(np.int32)\n",
    "# else:\n",
    "#     y = df[TARGET_COLUMN].values\n",
    "\n",
    "y = df[TARGET_COLUMN]\n",
    "#y, target_names = y.factorize()\n",
    "\n",
    "print(X.shape, y.shape)"
   ]
  },
  {
   "cell_type": "code",
   "execution_count": 6,
   "metadata": {
    "scrolled": false
   },
   "outputs": [
    {
     "data": {
      "text/plain": [
       "Counter({1: 1994, 3: 1676, 2: 458})"
      ]
     },
     "execution_count": 6,
     "metadata": {},
     "output_type": "execute_result"
    }
   ],
   "source": [
    "Counter(y)"
   ]
  },
  {
   "cell_type": "code",
   "execution_count": 7,
   "metadata": {},
   "outputs": [
    {
     "data": {
      "text/plain": [
       "78"
      ]
     },
     "execution_count": 7,
     "metadata": {},
     "output_type": "execute_result"
    }
   ],
   "source": [
    "len(FEATURE_NAMES)"
   ]
  },
  {
   "cell_type": "code",
   "execution_count": 8,
   "metadata": {
    "scrolled": false
   },
   "outputs": [],
   "source": [
    "X_train, X_test, y_train, y_test = train_test_split(X, y, test_size=0.3, random_state=0)"
   ]
  },
  {
   "cell_type": "code",
   "execution_count": 9,
   "metadata": {
    "scrolled": false
   },
   "outputs": [
    {
     "data": {
      "text/plain": [
       "Counter({1: 603, 3: 503, 2: 133})"
      ]
     },
     "execution_count": 9,
     "metadata": {},
     "output_type": "execute_result"
    }
   ],
   "source": [
    "Counter(y_test)"
   ]
  },
  {
   "cell_type": "code",
   "execution_count": 10,
   "metadata": {
    "scrolled": false
   },
   "outputs": [
    {
     "name": "stdout",
     "output_type": "stream",
     "text": [
      "['Not Purchasing', 'Additional Purchase', 'Exchanging Purchase']\n"
     ]
    }
   ],
   "source": [
    "print(target_names)"
   ]
  },
  {
   "cell_type": "code",
   "execution_count": 11,
   "metadata": {},
   "outputs": [
    {
     "data": {
      "text/plain": [
       "Counter({1: 1391, 3: 1173, 2: 325})"
      ]
     },
     "execution_count": 11,
     "metadata": {},
     "output_type": "execute_result"
    }
   ],
   "source": [
    "Counter(y_train)"
   ]
  },
  {
   "cell_type": "markdown",
   "metadata": {},
   "source": [
    "### Decision Tree"
   ]
  },
  {
   "cell_type": "code",
   "execution_count": 418,
   "metadata": {
    "scrolled": false
   },
   "outputs": [],
   "source": [
    "clf = DecisionTreeClassifier(max_depth=5)\n",
    "y_pred = clf.fit(X_train, y_train).predict(X_test)"
   ]
  },
  {
   "cell_type": "code",
   "execution_count": 420,
   "metadata": {
    "scrolled": false
   },
   "outputs": [
    {
     "name": "stdout",
     "output_type": "stream",
     "text": [
      "              precision    recall  f1-score   support\n",
      "\n",
      "        Car1       0.79      0.73      0.76        63\n",
      "        Car2       0.66      0.77      0.71        48\n",
      "        Car3       0.00      0.00      0.00         3\n",
      "\n",
      "    accuracy                           0.73       114\n",
      "   macro avg       0.48      0.50      0.49       114\n",
      "weighted avg       0.72      0.73      0.72       114\n",
      "\n"
     ]
    },
    {
     "data": {
      "image/png": "[encoded data removed]",
      "text/plain": [
       "<Figure size 576x432 with 2 Axes>"
      ]
     },
     "metadata": {
      "needs_background": "light"
     },
     "output_type": "display_data"
    }
   ],
   "source": [
    "print(classification_report(y_test, y_pred, target_names=target_names,))\n",
    "plot_confusion_matrix(y_test, y_pred, target_names=target_names, )"
   ]
  },
  {
   "cell_type": "code",
   "execution_count": 421,
   "metadata": {
    "scrolled": false
   },
   "outputs": [
    {
     "data": {
      "image/png": "[encoded data removed]",
      "text/plain": [
       "<Figure size 3600x1440 with 1 Axes>"
      ]
     },
     "metadata": {
      "needs_background": "light"
     },
     "output_type": "display_data"
    }
   ],
   "source": [
    "fig, ax = plt.subplots(figsize=(50, 20))\n",
    "plot_tree(clf, feature_names=FEATURE_NAMES, fontsize=10, ax=ax)\n",
    "fig.savefig('tree.png')"
   ]
  },
  {
   "cell_type": "markdown",
   "metadata": {},
   "source": [
    "### Random Forest"
   ]
  },
  {
   "cell_type": "code",
   "execution_count": 12,
   "metadata": {
    "scrolled": false
   },
   "outputs": [],
   "source": [
    "clf = RandomForestClassifier()\n",
    "y_pred = clf.fit(X_train, y_train).predict(X_test)"
   ]
  },
  {
   "cell_type": "code",
   "execution_count": 15,
   "metadata": {},
   "outputs": [
    {
     "data": {
      "text/plain": [
       "((4128, 78), (4128,))"
      ]
     },
     "execution_count": 15,
     "metadata": {},
     "output_type": "execute_result"
    }
   ],
   "source": [
    "X.shape, y.shape"
   ]
  },
  {
   "cell_type": "code",
   "execution_count": 17,
   "metadata": {
    "scrolled": false
   },
   "outputs": [
    {
     "name": "stdout",
     "output_type": "stream",
     "text": [
      "                     precision    recall  f1-score   support\n",
      "\n",
      "     Not Purchasing       0.45      0.67      0.54       346\n",
      "Additional Purchase       0.00      0.00      0.00        91\n",
      "Exchanging Purchase       0.50      0.35      0.41       389\n",
      "\n",
      "           accuracy                           0.45       826\n",
      "          macro avg       0.32      0.34      0.32       826\n",
      "       weighted avg       0.42      0.45      0.42       826\n",
      "\n"
     ]
    },
    {
     "data": {
      "image/png": "[encoded data removed]",
      "text/plain": [
       "<Figure size 576x432 with 2 Axes>"
      ]
     },
     "metadata": {
      "needs_background": "light"
     },
     "output_type": "display_data"
    },
    {
     "name": "stdout",
     "output_type": "stream",
     "text": [
      "                     precision    recall  f1-score   support\n",
      "\n",
      "     Not Purchasing       0.57      0.58      0.57       431\n",
      "Additional Purchase       0.08      0.03      0.04       104\n",
      "Exchanging Purchase       0.36      0.43      0.39       291\n",
      "\n",
      "           accuracy                           0.46       826\n",
      "          macro avg       0.34      0.35      0.34       826\n",
      "       weighted avg       0.43      0.46      0.44       826\n",
      "\n"
     ]
    },
    {
     "data": {
      "image/png": "[encoded data removed]",
      "text/plain": [
       "<Figure size 576x432 with 2 Axes>"
      ]
     },
     "metadata": {
      "needs_background": "light"
     },
     "output_type": "display_data"
    },
    {
     "name": "stdout",
     "output_type": "stream",
     "text": [
      "                     precision    recall  f1-score   support\n",
      "\n",
      "     Not Purchasing       0.52      0.58      0.55       406\n",
      "Additional Purchase       0.26      0.11      0.16        87\n",
      "Exchanging Purchase       0.45      0.46      0.45       333\n",
      "\n",
      "           accuracy                           0.48       826\n",
      "          macro avg       0.41      0.38      0.39       826\n",
      "       weighted avg       0.47      0.48      0.47       826\n",
      "\n"
     ]
    },
    {
     "data": {
      "image/png": "[encoded data removed]",
      "text/plain": [
       "<Figure size 576x432 with 2 Axes>"
      ]
     },
     "metadata": {
      "needs_background": "light"
     },
     "output_type": "display_data"
    },
    {
     "name": "stdout",
     "output_type": "stream",
     "text": [
      "                     precision    recall  f1-score   support\n",
      "\n",
      "     Not Purchasing       0.57      0.58      0.57       440\n",
      "Additional Purchase       0.18      0.13      0.15        61\n",
      "Exchanging Purchase       0.39      0.40      0.39       324\n",
      "\n",
      "           accuracy                           0.48       825\n",
      "          macro avg       0.38      0.37      0.37       825\n",
      "       weighted avg       0.47      0.48      0.47       825\n",
      "\n"
     ]
    },
    {
     "data": {
      "image/png": "[encoded data removed]",
      "text/plain": [
       "<Figure size 576x432 with 2 Axes>"
      ]
     },
     "metadata": {
      "needs_background": "light"
     },
     "output_type": "display_data"
    },
    {
     "name": "stdout",
     "output_type": "stream",
     "text": [
      "                     precision    recall  f1-score   support\n",
      "\n",
      "     Not Purchasing       0.48      0.53      0.50       371\n",
      "Additional Purchase       0.14      0.10      0.12       115\n",
      "Exchanging Purchase       0.44      0.43      0.44       339\n",
      "\n",
      "           accuracy                           0.43       825\n",
      "          macro avg       0.35      0.35      0.35       825\n",
      "       weighted avg       0.42      0.43      0.42       825\n",
      "\n"
     ]
    },
    {
     "data": {
      "image/png": "[encoded data removed]",
      "text/plain": [
       "<Figure size 576x432 with 2 Axes>"
      ]
     },
     "metadata": {
      "needs_background": "light"
     },
     "output_type": "display_data"
    }
   ],
   "source": [
    "import numpy as np\n",
    "from sklearn.model_selection import KFold\n",
    "\n",
    "kf = KFold(n_splits=5, random_state=None, shuffle=False)\n",
    "\n",
    "for train_index, test_index in kf.split(X):\n",
    "    X_train, X_test = X[train_index], X[test_index]\n",
    "    y_train, y_test = y[train_index], y[test_index]\n",
    "    y_pred = clf.fit(X_train, y_train).predict(X_test)\n",
    "    \n",
    "    print(classification_report(y_test, y_pred, target_names=target_names))\n",
    "    plot_confusion_matrix(y_test, y_pred, target_names=target_names)"
   ]
  },
  {
   "cell_type": "code",
   "execution_count": 22,
   "metadata": {},
   "outputs": [
    {
     "name": "stderr",
     "output_type": "stream",
     "text": [
      "[Parallel(n_jobs=1)]: Using backend SequentialBackend with 1 concurrent workers.\n"
     ]
    },
    {
     "name": "stdout",
     "output_type": "stream",
     "text": [
      "[CV] START .....................................................................\n",
      "[CV] END ................................ score: (test=0.327) total time=   0.6s\n",
      "[CV] START .....................................................................\n"
     ]
    },
    {
     "name": "stderr",
     "output_type": "stream",
     "text": [
      "[Parallel(n_jobs=1)]: Done   1 out of   1 | elapsed:    0.6s remaining:    0.0s\n"
     ]
    },
    {
     "name": "stdout",
     "output_type": "stream",
     "text": [
      "[CV] END ................................ score: (test=0.342) total time=   0.7s\n",
      "[CV] START .....................................................................\n"
     ]
    },
    {
     "name": "stderr",
     "output_type": "stream",
     "text": [
      "[Parallel(n_jobs=1)]: Done   2 out of   2 | elapsed:    1.3s remaining:    0.0s\n"
     ]
    },
    {
     "name": "stdout",
     "output_type": "stream",
     "text": [
      "[CV] END ................................ score: (test=0.364) total time=   0.7s\n",
      "[0.32717627 0.34168999 0.36362054]\n"
     ]
    },
    {
     "name": "stderr",
     "output_type": "stream",
     "text": [
      "[Parallel(n_jobs=1)]: Done   3 out of   3 | elapsed:    2.1s remaining:    0.0s\n",
      "[Parallel(n_jobs=1)]: Done   3 out of   3 | elapsed:    2.1s finished\n"
     ]
    }
   ],
   "source": [
    "import numpy as np\n",
    "from sklearn.model_selection import cross_val_score\n",
    "\n",
    "cv = KFold(n_splits=3, shuffle=False, random_state=None)\n",
    "print(cross_val_score(clf, X, y, cv=cv, scoring='f1_macro', verbose=20))"
   ]
  },
  {
   "cell_type": "code",
   "execution_count": null,
   "metadata": {},
   "outputs": [],
   "source": []
  },
  {
   "cell_type": "code",
   "execution_count": null,
   "metadata": {},
   "outputs": [],
   "source": []
  },
  {
   "cell_type": "code",
   "execution_count": 14,
   "metadata": {},
   "outputs": [
    {
     "name": "stdout",
     "output_type": "stream",
     "text": [
      "                     precision    recall  f1-score   support\n",
      "\n",
      "     Not Purchasing       0.67      0.67      0.67       603\n",
      "Additional Purchase       0.41      0.34      0.37       133\n",
      "Exchanging Purchase       0.61      0.64      0.62       503\n",
      "\n",
      "           accuracy                           0.62      1239\n",
      "          macro avg       0.56      0.55      0.56      1239\n",
      "       weighted avg       0.62      0.62      0.62      1239\n",
      "\n"
     ]
    },
    {
     "data": {
      "image/png": "[encoded data removed]",
      "text/plain": [
       "<Figure size 576x432 with 2 Axes>"
      ]
     },
     "metadata": {
      "needs_background": "light"
     },
     "output_type": "display_data"
    }
   ],
   "source": [
    "print(classification_report(y_test, y_pred, target_names=target_names,))\n",
    "plot_confusion_matrix(y_test, y_pred, target_names=target_names, )"
   ]
  },
  {
   "cell_type": "code",
   "execution_count": 425,
   "metadata": {
    "scrolled": false
   },
   "outputs": [
    {
     "ename": "SyntaxError",
     "evalue": "unexpected EOF while parsing (Temp/ipykernel_19368/4248554800.py, line 2)",
     "output_type": "error",
     "traceback": [
      "\u001b[1;36m  File \u001b[1;32m\"C:\\Users\\hmk41\\AppData\\Local\\Temp/ipykernel_19368/4248554800.py\"\u001b[1;36m, line \u001b[1;32m2\u001b[0m\n\u001b[1;33m    plot_confusion_matrix(y_test, y_pred, target_names=target_names, #labels=list(range(len(target_names))))\u001b[0m\n\u001b[1;37m                                                                                                            ^\u001b[0m\n\u001b[1;31mSyntaxError\u001b[0m\u001b[1;31m:\u001b[0m unexpected EOF while parsing\n"
     ]
    }
   ],
   "source": [
    "print(classification_report(y_test, y_pred, target_names=target_names, labels=list(range(len(target_names)))))\n",
    "plot_confusion_matrix(y_test, y_pred, target_names=target_names, #labels=list(range(len(target_names))))"
   ]
  },
  {
   "cell_type": "code",
   "execution_count": 426,
   "metadata": {
    "scrolled": false
   },
   "outputs": [
    {
     "data": {
      "text/plain": [
       "0.9999999999999999"
      ]
     },
     "execution_count": 426,
     "metadata": {},
     "output_type": "execute_result"
    }
   ],
   "source": [
    "cumsum_num_categories = [0] + list(np.cumsum(num_categories))\n",
    "\n",
    "importances = clf.feature_importances_\n",
    "numerical_importances = importances[:len(NUMERICAL_COLUMNS)]\n",
    "categorical_importances = []\n",
    "for start_index, end_index in zip(cumsum_num_categories[:-1], cumsum_num_categories[1:]):\n",
    "    categorical_importances.append(sum(importances[len(NUMERICAL_COLUMNS):][start_index:end_index]))\n",
    "\n",
    "sum(numerical_importances) + sum(categorical_importances)"
   ]
  },
  {
   "cell_type": "code",
   "execution_count": 427,
   "metadata": {
    "scrolled": false
   },
   "outputs": [
    {
     "name": "stdout",
     "output_type": "stream",
     "text": [
      "Numerical\n"
     ]
    }
   ],
   "source": [
    "print('Numerical')\n",
    "for i in np.argsort(numerical_importances)[::-1]:\n",
    "    print(f'{numerical_importances[i]:.3f}', NUMERICAL_COLUMNS[i])"
   ]
  },
  {
   "cell_type": "code",
   "execution_count": 428,
   "metadata": {
    "scrolled": false
   },
   "outputs": [
    {
     "name": "stdout",
     "output_type": "stream",
     "text": [
      "Categorical\n",
      "0.129   6 Car1_car_class\n",
      "0.124   4 Car2_old\n",
      "0.110   6 Car2_car_class\n",
      "0.088   4 Car1_fuel_type\n",
      "0.088   4 Car2_fuel_cost\n",
      "0.085   4 Car1_fuel_cost\n",
      "0.075   4 Car2_price\n",
      "0.073   4 Car1_price\n",
      "0.073   4 Car2_fuel_type\n",
      "0.054   4 Car1_old\n",
      "0.036   2 Car1_infra\n",
      "0.012   2 Car3_infra\n",
      "0.011   4 Car3_car_class\n",
      "0.010   4 Car3_old\n",
      "0.010   3 Car3_price\n",
      "0.008   2 Car2_infra\n",
      "0.007   3 Car3_fuel_type\n",
      "0.005   4 Car3_fuel_cost\n"
     ]
    }
   ],
   "source": [
    "print('Categorical')\n",
    "for i in np.argsort(categorical_importances)[::-1]:\n",
    "    print(f'{categorical_importances[i]:.3f}', f'{num_categories[i]:3d}', CATEGORICAL_COLUMNS[i])"
   ]
  },
  {
   "cell_type": "markdown",
   "metadata": {},
   "source": [
    "## SVM"
   ]
  },
  {
   "cell_type": "code",
   "execution_count": 429,
   "metadata": {},
   "outputs": [],
   "source": [
    "clf = svm.SVC()\n",
    "y_pred = clf.fit(X_train, y_train).predict(X_test)"
   ]
  },
  {
   "cell_type": "code",
   "execution_count": 430,
   "metadata": {},
   "outputs": [
    {
     "name": "stdout",
     "output_type": "stream",
     "text": [
      "              precision    recall  f1-score   support\n",
      "\n",
      "        Car1       0.88      0.73      0.80        63\n",
      "        Car2       0.69      0.90      0.78        48\n",
      "        Car3       0.00      0.00      0.00         3\n",
      "\n",
      "    accuracy                           0.78       114\n",
      "   macro avg       0.53      0.54      0.53       114\n",
      "weighted avg       0.78      0.78      0.77       114\n",
      "\n"
     ]
    },
    {
     "data": {
      "image/png": "[encoded data removed]",
      "text/plain": [
       "<Figure size 576x432 with 2 Axes>"
      ]
     },
     "metadata": {
      "needs_background": "light"
     },
     "output_type": "display_data"
    }
   ],
   "source": [
    "print(classification_report(y_test, y_pred, target_names=target_names,))\n",
    "plot_confusion_matrix(y_test, y_pred, target_names=target_names, )"
   ]
  },
  {
   "cell_type": "markdown",
   "metadata": {},
   "source": [
    "#### MNL"
   ]
  },
  {
   "cell_type": "code",
   "execution_count": 99,
   "metadata": {
    "scrolled": false
   },
   "outputs": [],
   "source": [
    "clf = LogisticRegression()\n",
    "y_pred = clf.fit(X_train, y_train).predict(X_test)"
   ]
  },
  {
   "cell_type": "code",
   "execution_count": 100,
   "metadata": {
    "scrolled": false
   },
   "outputs": [
    {
     "name": "stdout",
     "output_type": "stream",
     "text": [
      "              precision    recall  f1-score   support\n",
      "\n",
      "        Car1       0.00      0.00      0.00         0\n",
      "        Car2       0.44      0.25      0.32        63\n",
      "        Car3       0.38      0.62      0.48        48\n",
      "\n",
      "   micro avg       0.40      0.41      0.41       111\n",
      "   macro avg       0.28      0.29      0.27       111\n",
      "weighted avg       0.42      0.41      0.39       111\n",
      "\n"
     ]
    },
    {
     "data": {
      "image/png": "[encoded data removed]",
      "text/plain": [
       "<Figure size 576x432 with 2 Axes>"
      ]
     },
     "metadata": {
      "needs_background": "light"
     },
     "output_type": "display_data"
    }
   ],
   "source": [
    "print(classification_report(y_test, y_pred,target_names=target_names, labels=list(range(len(target_names)))))\n",
    "plot_confusion_matrix(y_test, y_pred,target_names=target_names, labels=list(range(len(target_names))))"
   ]
  },
  {
   "cell_type": "code",
   "execution_count": 101,
   "metadata": {
    "scrolled": true
   },
   "outputs": [
    {
     "name": "stdout",
     "output_type": "stream",
     "text": [
      "                            OLS Regression Results                            \n",
      "==============================================================================\n",
      "Dep. Variable:                 choice   R-squared:                       0.668\n",
      "Model:                            OLS   Adj. R-squared:                  0.580\n",
      "Method:                 Least Squares   F-statistic:                     7.600\n",
      "Date:                Thu, 10 Mar 2022   Prob (F-statistic):           1.52e-27\n",
      "Time:                        14:48:58   Log-Likelihood:                -57.654\n",
      "No. Observations:                 264   AIC:                             227.3\n",
      "Df Residuals:                     208   BIC:                             427.6\n",
      "Df Model:                          55                                         \n",
      "Covariance Type:            nonrobust                                         \n",
      "==============================================================================\n",
      "                 coef    std err          t      P>|t|      [0.025      0.975]\n",
      "------------------------------------------------------------------------------\n",
      "const          0.1775      0.030      5.842      0.000       0.118       0.237\n",
      "x1             0.0844      0.053      1.592      0.113      -0.020       0.189\n",
      "x2             0.0265      0.061      0.431      0.667      -0.095       0.148\n",
      "x3            -0.0448      0.043     -1.032      0.303      -0.130       0.041\n",
      "x4            -0.0065      0.006     -1.028      0.305      -0.019       0.006\n",
      "x5             0.4462      0.090      4.932      0.000       0.268       0.625\n",
      "x6          1.554e-06   1.74e-06      0.895      0.372   -1.87e-06    4.97e-06\n",
      "x7            -0.0469      0.031     -1.497      0.136      -0.109       0.015\n",
      "x8            -0.0085      0.022     -0.381      0.703      -0.052       0.035\n",
      "x9             0.0007      0.001      0.939      0.349      -0.001       0.002\n",
      "x10           -0.0113      0.048     -0.236      0.814      -0.106       0.083\n",
      "x11         6.399e-05      0.001      0.116      0.908      -0.001       0.001\n",
      "x12        -2.419e-05   2.05e-05     -1.178      0.240   -6.47e-05    1.63e-05\n",
      "x13            0.1696      0.055      3.101      0.002       0.062       0.277\n",
      "x14            0.0079      0.058      0.137      0.891      -0.106       0.122\n",
      "x15            0.2364      0.131      1.804      0.073      -0.022       0.495\n",
      "x16           -0.0600      0.161     -0.374      0.709      -0.376       0.256\n",
      "x17           -0.0044      0.071     -0.062      0.951      -0.144       0.136\n",
      "x18           -0.1013      0.150     -0.675      0.500      -0.397       0.194\n",
      "x19           -0.1050      0.124     -0.848      0.397      -0.349       0.139\n",
      "x20            0.3598      0.207      1.740      0.083      -0.048       0.767\n",
      "x21           -0.1480      0.154     -0.960      0.338      -0.452       0.156\n",
      "x22           -0.3858      0.139     -2.772      0.006      -0.660      -0.111\n",
      "x23           -0.0860      0.136     -0.631      0.529      -0.355       0.183\n",
      "x24            0.1021      0.068      1.507      0.133      -0.032       0.236\n",
      "x25            0.5472      0.273      2.006      0.046       0.010       1.085\n",
      "x26            0.5634      0.196      2.873      0.004       0.177       0.950\n",
      "x27           -0.1110      0.075     -1.478      0.141      -0.259       0.037\n",
      "x28           -0.4537      0.123     -3.699      0.000      -0.696      -0.212\n",
      "x29            0.0087      0.122      0.071      0.943      -0.232       0.249\n",
      "x30           -0.3500      0.108     -3.244      0.001      -0.563      -0.137\n",
      "x31            0.5202      0.257      2.023      0.044       0.013       1.027\n",
      "x32            0.1021      0.068      1.507      0.133      -0.032       0.236\n",
      "x33            0.0754      0.064      1.183      0.238      -0.050       0.201\n",
      "x34           -0.3626      0.126     -2.875      0.004      -0.611      -0.114\n",
      "x35            0.5635      0.140      4.035      0.000       0.288       0.839\n",
      "x36           -0.1660      0.101     -1.645      0.102      -0.365       0.033\n",
      "x37            0.1427      0.136      1.049      0.295      -0.125       0.411\n",
      "x38           -0.5067      0.169     -2.995      0.003      -0.840      -0.173\n",
      "x39            0.1779      0.095      1.877      0.062      -0.009       0.365\n",
      "x40            0.2701      0.074      3.670      0.000       0.125       0.415\n",
      "x41            0.2362      0.121      1.947      0.053      -0.003       0.475\n",
      "x42           -0.2035      0.104     -1.950      0.053      -0.409       0.002\n",
      "x43           -0.2314      0.109     -2.116      0.035      -0.447      -0.016\n",
      "x44            0.3166      0.114      2.779      0.006       0.092       0.541\n",
      "x45            0.2959      0.148      2.002      0.047       0.005       0.587\n",
      "x46            0.2372      0.144      1.642      0.102      -0.048       0.522\n",
      "x47            0.2523      0.102      2.463      0.015       0.050       0.454\n",
      "x48            0.0251      0.065      0.389      0.698      -0.102       0.153\n",
      "x49           -0.3371      0.167     -2.017      0.045      -0.667      -0.008\n",
      "x50           -0.2265      0.131     -1.725      0.086      -0.485       0.032\n",
      "x51           -0.0303      0.114     -0.267      0.789      -0.254       0.193\n",
      "x52            0.3144      0.141      2.234      0.027       0.037       0.592\n",
      "x53            0.0478      0.138      0.346      0.729      -0.224       0.320\n",
      "x54            0.1113      0.142      0.782      0.435      -0.169       0.392\n",
      "x55           -0.0391      0.235     -0.166      0.868      -0.503       0.424\n",
      "x56            0.0251      0.065      0.389      0.698      -0.102       0.153\n",
      "x57            0.1524      0.056      2.720      0.007       0.042       0.263\n",
      "x58            0.3652      0.133      2.736      0.007       0.102       0.628\n",
      "x59           -0.0751      0.088     -0.856      0.393      -0.248       0.098\n",
      "x60            0.1999      0.081      2.475      0.014       0.041       0.359\n",
      "x61           -0.3124      0.112     -2.782      0.006      -0.534      -0.091\n",
      "x62            0.0727      0.093      0.785      0.434      -0.110       0.255\n",
      "x63           -0.2078      0.119     -1.741      0.083      -0.443       0.028\n",
      "x64            0.0790      0.090      0.875      0.383      -0.099       0.257\n",
      "x65            0.2337      0.134      1.737      0.084      -0.031       0.499\n",
      "x66           -0.2259      0.116     -1.952      0.052      -0.454       0.002\n",
      "x67            0.0452      0.065      0.698      0.486      -0.082       0.173\n",
      "x68            0.1445      0.103      1.404      0.162      -0.058       0.347\n",
      "x69            0.2138      0.093      2.302      0.022       0.031       0.397\n",
      "x70            0.0864      0.031      2.763      0.006       0.025       0.148\n",
      "x71           -0.1179      0.056     -2.106      0.036      -0.228      -0.008\n",
      "x72            0.2090      0.075      2.789      0.006       0.061       0.357\n",
      "x73            0.0864      0.031      2.763      0.006       0.025       0.148\n",
      "x74            0.4382      0.214      2.049      0.042       0.017       0.860\n",
      "x75           -0.5561      0.217     -2.561      0.011      -0.984      -0.128\n",
      "x76            0.2090      0.075      2.789      0.006       0.061       0.357\n",
      "x77            0.0864      0.031      2.763      0.006       0.025       0.148\n",
      "x78            0.0911      0.039      2.327      0.021       0.014       0.168\n",
      "x79            0.0864      0.031      2.763      0.006       0.025       0.148\n",
      "x80            0.2090      0.075      2.789      0.006       0.061       0.357\n",
      "x81           -0.3524      0.150     -2.349      0.020      -0.648      -0.057\n",
      "x82            0.2346      0.159      1.480      0.140      -0.078       0.547\n",
      "x83            0.0864      0.031      2.763      0.006       0.025       0.148\n",
      "x84           -0.1179      0.056     -2.106      0.036      -0.228      -0.008\n",
      "x85            0.2090      0.075      2.789      0.006       0.061       0.357\n",
      "x86            0.0864      0.031      2.763      0.006       0.025       0.148\n",
      "x87            0.2090      0.075      2.789      0.006       0.061       0.357\n",
      "x88            0.2036      0.157      1.299      0.196      -0.106       0.513\n",
      "x89           -0.3215      0.178     -1.804      0.073      -0.673       0.030\n",
      "==============================================================================\n",
      "Omnibus:                       31.109   Durbin-Watson:                   2.093\n",
      "Prob(Omnibus):                  0.000   Jarque-Bera (JB):              131.628\n",
      "Skew:                           0.317   Prob(JB):                     2.61e-29\n",
      "Kurtosis:                       6.401   Cond. No.                     1.89e+17\n",
      "==============================================================================\n",
      "\n",
      "Notes:\n",
      "[1] Standard Errors assume that the covariance matrix of the errors is correctly specified.\n",
      "[2] The smallest eigenvalue is 2.69e-23. This might indicate that there are\n",
      "strong multicollinearity problems or that the design matrix is singular.\n"
     ]
    }
   ],
   "source": [
    "import statsmodels.api as sm\n",
    "\n",
    "X2 = sm.add_constant(X_train)\n",
    "est = sm.OLS(y_train, X2)\n",
    "est2 = est.fit()\n",
    "print(est2.summary())"
   ]
  },
  {
   "cell_type": "code",
   "execution_count": 102,
   "metadata": {
    "scrolled": true
   },
   "outputs": [
    {
     "name": "stdout",
     "output_type": "stream",
     "text": [
      "                            OLS Regression Results                            \n",
      "==============================================================================\n",
      "Dep. Variable:                      y   R-squared:                       0.668\n",
      "Model:                            OLS   Adj. R-squared:                  0.580\n",
      "Method:                 Least Squares   F-statistic:                     7.600\n",
      "Date:                Thu, 10 Mar 2022   Prob (F-statistic):           1.52e-27\n",
      "Time:                        14:49:00   Log-Likelihood:                -57.654\n",
      "No. Observations:                 264   AIC:                             227.3\n",
      "Df Residuals:                     208   BIC:                             427.6\n",
      "Df Model:                          55                                         \n",
      "Covariance Type:            nonrobust                                         \n",
      "====================================================================================\n",
      "                       coef    std err          t      P>|t|      [0.025      0.975]\n",
      "------------------------------------------------------------------------------------\n",
      "const                0.1775      0.030      5.842      0.000       0.118       0.237\n",
      "policy               0.0844      0.053      1.592      0.113      -0.020       0.189\n",
      "eco                  0.0265      0.061      0.431      0.667      -0.095       0.148\n",
      "tech                -0.0448      0.043     -1.032      0.303      -0.130       0.041\n",
      "age                 -0.0065      0.006     -1.028      0.305      -0.019       0.006\n",
      "owning               0.4462      0.090      4.932      0.000       0.268       0.625\n",
      "mileage           1.554e-06   1.74e-06      0.895      0.372   -1.87e-06    4.97e-06\n",
      "family              -0.0469      0.031     -1.497      0.136      -0.109       0.015\n",
      "wealth              -0.0085      0.022     -0.381      0.703      -0.052       0.035\n",
      "p_infra              0.0007      0.001      0.939      0.349      -0.001       0.002\n",
      "p_class             -0.0113      0.048     -0.236      0.814      -0.106       0.083\n",
      "p_fuel_cost       6.399e-05      0.001      0.116      0.908      -0.001       0.001\n",
      "p_price          -2.419e-05   2.05e-05     -1.178      0.240   -6.47e-05    1.63e-05\n",
      "gender_1             0.1696      0.055      3.101      0.002       0.062       0.277\n",
      "gender_2             0.0079      0.058      0.137      0.891      -0.106       0.122\n",
      "job_1                0.2364      0.131      1.804      0.073      -0.022       0.495\n",
      "job_2               -0.0600      0.161     -0.374      0.709      -0.376       0.256\n",
      "job_3               -0.0044      0.071     -0.062      0.951      -0.144       0.136\n",
      "job_4               -0.1013      0.150     -0.675      0.500      -0.397       0.194\n",
      "job_5               -0.1050      0.124     -0.848      0.397      -0.349       0.139\n",
      "job_7                0.3598      0.207      1.740      0.083      -0.048       0.767\n",
      "job_9               -0.1480      0.154     -0.960      0.338      -0.452       0.156\n",
      "Car1_fuel_type_1    -0.3858      0.139     -2.772      0.006      -0.660      -0.111\n",
      "Car1_fuel_type_2    -0.0860      0.136     -0.631      0.529      -0.355       0.183\n",
      "Car1_fuel_type_3     0.1021      0.068      1.507      0.133      -0.032       0.236\n",
      "Car1_fuel_type_5     0.5472      0.273      2.006      0.046       0.010       1.085\n",
      "Car1_car_class_1     0.5634      0.196      2.873      0.004       0.177       0.950\n",
      "Car1_car_class_2    -0.1110      0.075     -1.478      0.141      -0.259       0.037\n",
      "Car1_car_class_3    -0.4537      0.123     -3.699      0.000      -0.696      -0.212\n",
      "Car1_car_class_4     0.0087      0.122      0.071      0.943      -0.232       0.249\n",
      "Car1_car_class_5    -0.3500      0.108     -3.244      0.001      -0.563      -0.137\n",
      "Car1_car_class_6     0.5202      0.257      2.023      0.044       0.013       1.027\n",
      "Car1_infra_10        0.1021      0.068      1.507      0.133      -0.032       0.236\n",
      "Car1_infra_100       0.0754      0.064      1.183      0.238      -0.050       0.201\n",
      "Car1_fuel_cost_1    -0.3626      0.126     -2.875      0.004      -0.611      -0.114\n",
      "Car1_fuel_cost_2     0.5635      0.140      4.035      0.000       0.288       0.839\n",
      "Car1_fuel_cost_3    -0.1660      0.101     -1.645      0.102      -0.365       0.033\n",
      "Car1_fuel_cost_4     0.1427      0.136      1.049      0.295      -0.125       0.411\n",
      "Car1_price_1        -0.5067      0.169     -2.995      0.003      -0.840      -0.173\n",
      "Car1_price_2         0.1779      0.095      1.877      0.062      -0.009       0.365\n",
      "Car1_price_3         0.2701      0.074      3.670      0.000       0.125       0.415\n",
      "Car1_price_4         0.2362      0.121      1.947      0.053      -0.003       0.475\n",
      "Car1_old_1          -0.2035      0.104     -1.950      0.053      -0.409       0.002\n",
      "Car1_old_2          -0.2314      0.109     -2.116      0.035      -0.447      -0.016\n",
      "Car1_old_3           0.3166      0.114      2.779      0.006       0.092       0.541\n",
      "Car1_old_4           0.2959      0.148      2.002      0.047       0.005       0.587\n",
      "Car2_fuel_type_1     0.2372      0.144      1.642      0.102      -0.048       0.522\n",
      "Car2_fuel_type_2     0.2523      0.102      2.463      0.015       0.050       0.454\n",
      "Car2_fuel_type_3     0.0251      0.065      0.389      0.698      -0.102       0.153\n",
      "Car2_fuel_type_5    -0.3371      0.167     -2.017      0.045      -0.667      -0.008\n",
      "Car2_car_class_1    -0.2265      0.131     -1.725      0.086      -0.485       0.032\n",
      "Car2_car_class_2    -0.0303      0.114     -0.267      0.789      -0.254       0.193\n",
      "Car2_car_class_3     0.3144      0.141      2.234      0.027       0.037       0.592\n",
      "Car2_car_class_4     0.0478      0.138      0.346      0.729      -0.224       0.320\n",
      "Car2_car_class_5     0.1113      0.142      0.782      0.435      -0.169       0.392\n",
      "Car2_car_class_6    -0.0391      0.235     -0.166      0.868      -0.503       0.424\n",
      "Car2_infra_10        0.0251      0.065      0.389      0.698      -0.102       0.153\n",
      "Car2_infra_100       0.1524      0.056      2.720      0.007       0.042       0.263\n",
      "Car2_fuel_cost_1     0.3652      0.133      2.736      0.007       0.102       0.628\n",
      "Car2_fuel_cost_2    -0.0751      0.088     -0.856      0.393      -0.248       0.098\n",
      "Car2_fuel_cost_3     0.1999      0.081      2.475      0.014       0.041       0.359\n",
      "Car2_fuel_cost_4    -0.3124      0.112     -2.782      0.006      -0.534      -0.091\n",
      "Car2_price_1         0.0727      0.093      0.785      0.434      -0.110       0.255\n",
      "Car2_price_2        -0.2078      0.119     -1.741      0.083      -0.443       0.028\n",
      "Car2_price_3         0.0790      0.090      0.875      0.383      -0.099       0.257\n",
      "Car2_price_4         0.2337      0.134      1.737      0.084      -0.031       0.499\n",
      "Car2_old_1          -0.2259      0.116     -1.952      0.052      -0.454       0.002\n",
      "Car2_old_2           0.0452      0.065      0.698      0.486      -0.082       0.173\n",
      "Car2_old_3           0.1445      0.103      1.404      0.162      -0.058       0.347\n",
      "Car2_old_4           0.2138      0.093      2.302      0.022       0.031       0.397\n",
      "Car3_fuel_type_0     0.0864      0.031      2.763      0.006       0.025       0.148\n",
      "Car3_fuel_type_1    -0.1179      0.056     -2.106      0.036      -0.228      -0.008\n",
      "Car3_fuel_type_2     0.2090      0.075      2.789      0.006       0.061       0.357\n",
      "Car3_car_class_0     0.0864      0.031      2.763      0.006       0.025       0.148\n",
      "Car3_car_class_2     0.4382      0.214      2.049      0.042       0.017       0.860\n",
      "Car3_car_class_3    -0.5561      0.217     -2.561      0.011      -0.984      -0.128\n",
      "Car3_car_class_5     0.2090      0.075      2.789      0.006       0.061       0.357\n",
      "Car3_infra_0         0.0864      0.031      2.763      0.006       0.025       0.148\n",
      "Car3_infra_100       0.0911      0.039      2.327      0.021       0.014       0.168\n",
      "Car3_fuel_cost_0     0.0864      0.031      2.763      0.006       0.025       0.148\n",
      "Car3_fuel_cost_2     0.2090      0.075      2.789      0.006       0.061       0.357\n",
      "Car3_fuel_cost_3    -0.3524      0.150     -2.349      0.020      -0.648      -0.057\n",
      "Car3_fuel_cost_4     0.2346      0.159      1.480      0.140      -0.078       0.547\n",
      "Car3_price_0         0.0864      0.031      2.763      0.006       0.025       0.148\n",
      "Car3_price_1        -0.1179      0.056     -2.106      0.036      -0.228      -0.008\n",
      "Car3_price_3         0.2090      0.075      2.789      0.006       0.061       0.357\n",
      "Car3_old_0           0.0864      0.031      2.763      0.006       0.025       0.148\n",
      "Car3_old_2           0.2090      0.075      2.789      0.006       0.061       0.357\n",
      "Car3_old_3           0.2036      0.157      1.299      0.196      -0.106       0.513\n",
      "Car3_old_4          -0.3215      0.178     -1.804      0.073      -0.673       0.030\n",
      "==============================================================================\n",
      "Omnibus:                       31.109   Durbin-Watson:                   2.093\n",
      "Prob(Omnibus):                  0.000   Jarque-Bera (JB):              131.628\n",
      "Skew:                           0.317   Prob(JB):                     2.61e-29\n",
      "Kurtosis:                       6.401   Cond. No.                     1.89e+17\n",
      "==============================================================================\n",
      "\n",
      "Notes:\n",
      "[1] Standard Errors assume that the covariance matrix of the errors is correctly specified.\n",
      "[2] The smallest eigenvalue is 2.69e-23. This might indicate that there are\n",
      "strong multicollinearity problems or that the design matrix is singular.\n"
     ]
    }
   ],
   "source": [
    "import statsmodels.api as sm\n",
    "\n",
    "X2 = sm.add_constant(pd.DataFrame(X_train, columns=FEATURE_NAMES))\n",
    "est = sm.OLS(list(y_train), X2)\n",
    "est2 = est.fit()\n",
    "print(est2.summary())"
   ]
  },
  {
   "cell_type": "code",
   "execution_count": null,
   "metadata": {
    "scrolled": false
   },
   "outputs": [],
   "source": []
  }
 ],
 "metadata": {
  "interpreter": {
   "hash": "0600588c3b5f4418cbe7b5ebc6825b479f3bc010269d8b60d75058cdd010adfe"
  },
  "kernelspec": {
   "display_name": "Python 3 (ipykernel)",
   "language": "python",
   "name": "python3"
  },
  "language_info": {
   "codemirror_mode": {
    "name": "ipython",
    "version": 3
   },
   "file_extension": ".py",
   "mimetype": "text/x-python",
   "name": "python",
   "nbconvert_exporter": "python",
   "pygments_lexer": "ipython3",
   "version": "3.7.9"
  }
 },
 "nbformat": 4,
 "nbformat_minor": 2
}
