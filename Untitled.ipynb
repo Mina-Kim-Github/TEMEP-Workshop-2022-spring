{
 "cells": [
  {
   "cell_type": "code",
   "execution_count": 6,
   "id": "bbc259eb",
   "metadata": {},
   "outputs": [
    {
     "name": "stdout",
     "output_type": "stream",
     "text": [
      "Defaulting to user installation because normal site-packages is not writeableNote: you may need to restart the kernel to use updated packages.\n",
      "\n",
      "Collecting transformers4rec\n",
      "  Downloading transformers4rec-0.1.8.tar.gz (765 kB)\n",
      "     -------------------------------------- 765.6/765.6 kB 6.0 MB/s eta 0:00:00\n",
      "  Installing build dependencies: started\n",
      "  Installing build dependencies: finished with status 'done'\n",
      "  Getting requirements to build wheel: started\n",
      "  Getting requirements to build wheel: finished with status 'done'\n",
      "  Preparing metadata (pyproject.toml): started\n",
      "  Preparing metadata (pyproject.toml): finished with status 'done'\n",
      "Requirement already satisfied: numpy>=1.17.0 in c:\\users\\hmk41\\appdata\\roaming\\python\\python37\\site-packages (from transformers4rec) (1.19.3)\n",
      "Collecting pyarrow>=1.0\n",
      "  Downloading pyarrow-8.0.0-cp37-cp37m-win_amd64.whl (17.8 MB)\n",
      "     ---------------------------------------- 17.8/17.8 MB 8.2 MB/s eta 0:00:00\n",
      "Collecting betterproto<2.0.0\n",
      "  Downloading betterproto-1.2.5.tar.gz (26 kB)\n",
      "  Installing build dependencies: started\n",
      "  Installing build dependencies: finished with status 'done'\n",
      "  Getting requirements to build wheel: started\n",
      "  Getting requirements to build wheel: finished with status 'done'\n",
      "  Preparing metadata (pyproject.toml): started\n",
      "  Preparing metadata (pyproject.toml): finished with status 'done'\n",
      "Requirement already satisfied: tqdm>=4.27 in c:\\users\\hmk41\\appdata\\roaming\\python\\python37\\site-packages (from transformers4rec) (4.56.0)\n",
      "Collecting transformers>=4.12.*\n",
      "  Downloading transformers-4.19.2-py3-none-any.whl (4.2 MB)\n",
      "     ---------------------------------------- 4.2/4.2 MB 8.3 MB/s eta 0:00:00\n",
      "Collecting stringcase\n",
      "  Downloading stringcase-1.2.0.tar.gz (3.0 kB)\n",
      "  Preparing metadata (setup.py): started\n",
      "  Preparing metadata (setup.py): finished with status 'done'\n",
      "Collecting grpclib\n",
      "  Downloading grpclib-0.4.2.tar.gz (58 kB)\n",
      "     ---------------------------------------- 58.1/58.1 kB 1.5 MB/s eta 0:00:00\n",
      "  Installing build dependencies: started\n",
      "  Installing build dependencies: finished with status 'done'\n",
      "  Getting requirements to build wheel: started\n",
      "  Getting requirements to build wheel: finished with status 'done'\n",
      "  Preparing metadata (pyproject.toml): started\n",
      "  Preparing metadata (pyproject.toml): finished with status 'done'\n",
      "Requirement already satisfied: packaging>=20.0 in c:\\users\\hmk41\\appdata\\roaming\\python\\python37\\site-packages (from transformers>=4.12.*->transformers4rec) (21.0)\n",
      "Collecting regex!=2019.12.17\n",
      "  Downloading regex-2022.4.24-cp37-cp37m-win_amd64.whl (261 kB)\n",
      "     -------------------------------------- 262.0/262.0 kB 8.1 MB/s eta 0:00:00\n",
      "Collecting tokenizers!=0.11.3,<0.13,>=0.11.1\n",
      "  Downloading tokenizers-0.12.1-cp37-cp37m-win_amd64.whl (3.3 MB)\n",
      "     ---------------------------------------- 3.3/3.3 MB 7.0 MB/s eta 0:00:00\n",
      "Requirement already satisfied: requests in c:\\users\\hmk41\\appdata\\roaming\\python\\python37\\site-packages (from transformers>=4.12.*->transformers4rec) (2.26.0)\n",
      "Requirement already satisfied: filelock in c:\\users\\hmk41\\appdata\\roaming\\python\\python37\\site-packages (from transformers>=4.12.*->transformers4rec) (3.4.0)\n",
      "Collecting huggingface-hub<1.0,>=0.1.0\n",
      "  Downloading huggingface_hub-0.7.0-py3-none-any.whl (86 kB)\n",
      "     ---------------------------------------- 86.2/86.2 kB 2.5 MB/s eta 0:00:00\n",
      "Requirement already satisfied: pyyaml>=5.1 in c:\\users\\hmk41\\appdata\\roaming\\python\\python37\\site-packages (from transformers>=4.12.*->transformers4rec) (6.0)\n",
      "Requirement already satisfied: importlib-metadata in c:\\users\\hmk41\\appdata\\roaming\\python\\python37\\site-packages (from transformers>=4.12.*->transformers4rec) (3.10.1)\n",
      "Requirement already satisfied: typing-extensions>=3.7.4.3 in c:\\users\\hmk41\\appdata\\roaming\\python\\python37\\site-packages (from huggingface-hub<1.0,>=0.1.0->transformers>=4.12.*->transformers4rec) (3.10.0.0)\n",
      "Requirement already satisfied: pyparsing>=2.0.2 in c:\\users\\hmk41\\appdata\\roaming\\python\\python37\\site-packages (from packaging>=20.0->transformers>=4.12.*->transformers4rec) (2.4.7)\n",
      "Collecting h2<5,>=3.1.0\n",
      "  Downloading h2-4.1.0-py3-none-any.whl (57 kB)\n",
      "     ---------------------------------------- 57.5/57.5 kB 1.5 MB/s eta 0:00:00\n",
      "Collecting multidict\n",
      "  Downloading multidict-6.0.2-cp37-cp37m-win_amd64.whl (27 kB)\n",
      "Requirement already satisfied: zipp>=0.5 in c:\\users\\hmk41\\appdata\\roaming\\python\\python37\\site-packages (from importlib-metadata->transformers>=4.12.*->transformers4rec) (3.5.0)\n",
      "Requirement already satisfied: certifi>=2017.4.17 in c:\\users\\hmk41\\appdata\\roaming\\python\\python37\\site-packages (from requests->transformers>=4.12.*->transformers4rec) (2021.5.30)\n",
      "Requirement already satisfied: idna<4,>=2.5 in c:\\users\\hmk41\\appdata\\roaming\\python\\python37\\site-packages (from requests->transformers>=4.12.*->transformers4rec) (3.2)\n",
      "Requirement already satisfied: urllib3<1.27,>=1.21.1 in c:\\users\\hmk41\\appdata\\roaming\\python\\python37\\site-packages (from requests->transformers>=4.12.*->transformers4rec) (1.26.6)\n",
      "Requirement already satisfied: charset-normalizer~=2.0.0 in c:\\users\\hmk41\\appdata\\roaming\\python\\python37\\site-packages (from requests->transformers>=4.12.*->transformers4rec) (2.0.4)\n",
      "Collecting hpack<5,>=4.0\n",
      "  Downloading hpack-4.0.0-py3-none-any.whl (32 kB)\n",
      "Collecting hyperframe<7,>=6.0\n",
      "  Downloading hyperframe-6.0.1-py3-none-any.whl (12 kB)\n",
      "Building wheels for collected packages: transformers4rec, betterproto, grpclib, stringcase\n",
      "  Building wheel for transformers4rec (pyproject.toml): started\n",
      "  Building wheel for transformers4rec (pyproject.toml): finished with status 'done'\n",
      "  Created wheel for transformers4rec: filename=transformers4rec-0.1.8-py3-none-any.whl size=437100 sha256=53deb49fa1f54c9b3b5d758152b46f012be9e37e85ea2a3f1ec1c1f0a6fa6beb\n",
      "  Stored in directory: c:\\users\\hmk41\\appdata\\local\\pip\\cache\\wheels\\ea\\2c\\8a\\710f2b2d24dda3141d0839564c293cdac2ce758cb04a4f85b0\n",
      "  Building wheel for betterproto (pyproject.toml): started\n",
      "  Building wheel for betterproto (pyproject.toml): finished with status 'done'\n",
      "  Created wheel for betterproto: filename=betterproto-1.2.5-py3-none-any.whl size=21998 sha256=e8794e72417e6c6f6bb23ccf4a80a6eef0ef9dfe8124cb0fa7afec443a2cda7c\n",
      "  Stored in directory: c:\\users\\hmk41\\appdata\\local\\pip\\cache\\wheels\\d5\\d7\\46\\97b7ec73d54fb8fc70775837af159e34b4965eda3481c7e659\n",
      "  Building wheel for grpclib (pyproject.toml): started\n",
      "  Building wheel for grpclib (pyproject.toml): finished with status 'done'\n",
      "  Created wheel for grpclib: filename=grpclib-0.4.2-py3-none-any.whl size=70586 sha256=88e22e905971c81401d13eda21d1816424eb0bbef6786ccc8ac6f4e0bf10f050\n",
      "  Stored in directory: c:\\users\\hmk41\\appdata\\local\\pip\\cache\\wheels\\04\\5a\\87\\85aaf11c595b636cada52ccdca3f2ccb9bf38f64c80193ba1b\n",
      "  Building wheel for stringcase (setup.py): started\n",
      "  Building wheel for stringcase (setup.py): finished with status 'done'\n",
      "  Created wheel for stringcase: filename=stringcase-1.2.0-py3-none-any.whl size=3577 sha256=9f248602928e47e306b8344688e769b6dbeb80739b511ab93c376e6e5f747ddb\n",
      "  Stored in directory: c:\\users\\hmk41\\appdata\\local\\pip\\cache\\wheels\\86\\ab\\a3\\a8fa7e0a07e80f547e03468c03827f8257f7339327986faed1\n",
      "Successfully built transformers4rec betterproto grpclib stringcase\n",
      "Installing collected packages: tokenizers, stringcase, regex, pyarrow, multidict, hyperframe, hpack, huggingface-hub, h2, transformers, grpclib, betterproto, transformers4rec\n",
      "Successfully installed betterproto-1.2.5 grpclib-0.4.2 h2-4.1.0 hpack-4.0.0 huggingface-hub-0.7.0 hyperframe-6.0.1 multidict-6.0.2 pyarrow-8.0.0 regex-2022.4.24 stringcase-1.2.0 tokenizers-0.12.1 transformers-4.19.2 transformers4rec-0.1.8\n"
     ]
    }
   ],
   "source": [
    "pip install transformers4rec"
   ]
  },
  {
   "cell_type": "code",
   "execution_count": 8,
   "id": "00113232",
   "metadata": {},
   "outputs": [
    {
     "name": "stdout",
     "output_type": "stream",
     "text": [
      "Defaulting to user installation because normal site-packages is not writeable\n",
      "Collecting google\n",
      "  Downloading google-3.0.0-py2.py3-none-any.whl (45 kB)\n",
      "     ---------------------------------------- 45.3/45.3 kB 2.2 MB/s eta 0:00:00\n",
      "Requirement already satisfied: beautifulsoup4 in c:\\users\\hmk41\\appdata\\roaming\\python\\python37\\site-packages (from google) (4.9.3)\n",
      "Requirement already satisfied: soupsieve>1.2 in c:\\users\\hmk41\\appdata\\roaming\\python\\python37\\site-packages (from beautifulsoup4->google) (2.2.1)\n",
      "Installing collected packages: google\n",
      "Successfully installed google-3.0.0\n",
      "Note: you may need to restart the kernel to use updated packages.\n"
     ]
    }
   ],
   "source": [
    "pip install google"
   ]
  },
  {
   "cell_type": "code",
   "execution_count": 14,
   "id": "78dde990",
   "metadata": {},
   "outputs": [
    {
     "name": "stdout",
     "output_type": "stream",
     "text": [
      "Defaulting to user installation because normal site-packages is not writeable\n",
      "Collecting protobuf\n",
      "  Downloading protobuf-4.21.1-cp37-cp37m-win_amd64.whl (524 kB)\n",
      "     -------------------------------------- 524.6/524.6 kB 6.6 MB/s eta 0:00:00\n",
      "Installing collected packages: protobuf\n",
      "Successfully installed protobuf-4.21.1\n",
      "Note: you may need to restart the kernel to use updated packages.\n"
     ]
    }
   ],
   "source": [
    "pip install protobuf"
   ]
  },
  {
   "cell_type": "code",
   "execution_count": 16,
   "id": "3d32a67e",
   "metadata": {},
   "outputs": [
    {
     "name": "stdout",
     "output_type": "stream",
     "text": [
      "Defaulting to user installation because normal site-packages is not writeable\n",
      "Collecting torch\n",
      "  Downloading torch-1.11.0-cp37-cp37m-win_amd64.whl (158.0 MB)\n",
      "     -------------------------------------- 158.0/158.0 MB 2.8 MB/s eta 0:00:00\n",
      "Requirement already satisfied: typing-extensions in c:\\users\\hmk41\\appdata\\roaming\\python\\python37\\site-packages (from torch) (3.10.0.0)\n",
      "Installing collected packages: torch\n",
      "Successfully installed torch-1.11.0\n",
      "Note: you may need to restart the kernel to use updated packages.\n"
     ]
    }
   ],
   "source": [
    "pip install torch"
   ]
  },
  {
   "cell_type": "code",
   "execution_count": 18,
   "id": "78134159",
   "metadata": {},
   "outputs": [
    {
     "name": "stdout",
     "output_type": "stream",
     "text": [
      "Defaulting to user installation because normal site-packages is not writeable\n",
      "Collecting torchmetrics\n",
      "  Downloading torchmetrics-0.9.0-py3-none-any.whl (418 kB)\n",
      "     -------------------------------------- 418.2/418.2 kB 6.6 MB/s eta 0:00:00\n",
      "Requirement already satisfied: packaging in c:\\users\\hmk41\\appdata\\roaming\\python\\python37\\site-packages (from torchmetrics) (21.0)\n",
      "Requirement already satisfied: torch>=1.3.1 in c:\\users\\hmk41\\appdata\\roaming\\python\\python37\\site-packages (from torchmetrics) (1.11.0)\n",
      "Requirement already satisfied: numpy>=1.17.2 in c:\\users\\hmk41\\appdata\\roaming\\python\\python37\\site-packages (from torchmetrics) (1.19.3)\n",
      "Requirement already satisfied: typing-extensions in c:\\users\\hmk41\\appdata\\roaming\\python\\python37\\site-packages (from torchmetrics) (3.10.0.0)\n",
      "Requirement already satisfied: pyparsing>=2.0.2 in c:\\users\\hmk41\\appdata\\roaming\\python\\python37\\site-packages (from packaging->torchmetrics) (2.4.7)\n",
      "Installing collected packages: torchmetrics\n",
      "Successfully installed torchmetrics-0.9.0\n",
      "Note: you may need to restart the kernel to use updated packages.\n"
     ]
    }
   ],
   "source": [
    "pip install torchmetrics"
   ]
  },
  {
   "cell_type": "code",
   "execution_count": 22,
   "id": "c1138ce9",
   "metadata": {},
   "outputs": [
    {
     "name": "stdout",
     "output_type": "stream",
     "text": [
      "Defaulting to user installation because normal site-packages is not writeableNote: you may need to restart the kernel to use updated packages.\n"
     ]
    },
    {
     "name": "stderr",
     "output_type": "stream",
     "text": [
      "ERROR: Could not install packages due to an OSError: [WinError 5] 액세스가 거부되었습니다: 'c:\\\\users\\\\hmk41\\\\appdata\\\\roaming\\\\python\\\\python37\\\\site-packages\\\\~okenizers\\\\tokenizers.cp37-win_amd64.pyd'"
     ]
    },
    {
     "name": "stdout",
     "output_type": "stream",
     "text": [
      "\n",
      "Collecting tensorflow==2.0\n",
      "  Downloading tensorflow-2.0.0-cp37-cp37m-win_amd64.whl (48.1 MB)\n",
      "     ---------------------------------------- 48.1/48.1 MB 5.7 MB/s eta 0:00:00\n",
      "Collecting transformers==2.8.0\n",
      "  Downloading transformers-2.8.0-py3-none-any.whl (563 kB)\n",
      "     -------------------------------------- 563.8/563.8 kB 5.9 MB/s eta 0:00:00\n",
      "Collecting gast==0.2.2\n",
      "  Downloading gast-0.2.2.tar.gz (10 kB)\n",
      "  Preparing metadata (setup.py): started\n",
      "  Preparing metadata (setup.py): finished with status 'done'\n",
      "Collecting termcolor>=1.1.0\n",
      "  Downloading termcolor-1.1.0.tar.gz (3.9 kB)\n",
      "  Preparing metadata (setup.py): started\n",
      "  Preparing metadata (setup.py): finished with status 'done'\n",
      "Requirement already satisfied: numpy<2.0,>=1.16.0 in c:\\users\\hmk41\\appdata\\roaming\\python\\python37\\site-packages (from tensorflow==2.0) (1.19.3)\n",
      "Requirement already satisfied: protobuf>=3.6.1 in c:\\users\\hmk41\\appdata\\roaming\\python\\python37\\site-packages (from tensorflow==2.0) (4.21.1)\n",
      "Collecting wrapt>=1.11.1\n",
      "  Downloading wrapt-1.14.1-cp37-cp37m-win_amd64.whl (35 kB)\n",
      "Collecting tensorflow-estimator<2.1.0,>=2.0.0\n",
      "  Downloading tensorflow_estimator-2.0.1-py2.py3-none-any.whl (449 kB)\n",
      "     -------------------------------------- 449.9/449.9 kB 5.6 MB/s eta 0:00:00\n",
      "Collecting opt-einsum>=2.3.2\n",
      "  Downloading opt_einsum-3.3.0-py3-none-any.whl (65 kB)\n",
      "     ---------------------------------------- 65.5/65.5 kB 3.5 MB/s eta 0:00:00\n",
      "Requirement already satisfied: wheel>=0.26 in c:\\users\\hmk41\\appdata\\roaming\\python\\python37\\site-packages (from tensorflow==2.0) (0.37.1)\n",
      "Collecting tensorboard<2.1.0,>=2.0.0\n",
      "  Downloading tensorboard-2.0.2-py3-none-any.whl (3.8 MB)\n",
      "     ---------------------------------------- 3.8/3.8 MB 7.2 MB/s eta 0:00:00\n",
      "Collecting grpcio>=1.8.6\n",
      "  Downloading grpcio-1.46.3-cp37-cp37m-win_amd64.whl (3.5 MB)\n",
      "     ---------------------------------------- 3.5/3.5 MB 4.3 MB/s eta 0:00:00\n",
      "Collecting absl-py>=0.7.0\n",
      "  Downloading absl_py-1.0.0-py3-none-any.whl (126 kB)\n",
      "     -------------------------------------- 126.7/126.7 kB 7.3 MB/s eta 0:00:00\n",
      "Collecting keras-applications>=1.0.8\n",
      "  Downloading Keras_Applications-1.0.8-py3-none-any.whl (50 kB)\n",
      "     ---------------------------------------- 50.7/50.7 kB ? eta 0:00:00\n",
      "Collecting google-pasta>=0.1.6\n",
      "  Downloading google_pasta-0.2.0-py3-none-any.whl (57 kB)\n",
      "     ---------------------------------------- 57.5/57.5 kB 3.0 MB/s eta 0:00:00\n",
      "Requirement already satisfied: six>=1.10.0 in c:\\users\\hmk41\\appdata\\roaming\\python\\python37\\site-packages (from tensorflow==2.0) (1.16.0)\n",
      "Collecting astor>=0.6.0\n",
      "  Downloading astor-0.8.1-py2.py3-none-any.whl (27 kB)\n",
      "Collecting keras-preprocessing>=1.0.5\n",
      "  Downloading Keras_Preprocessing-1.1.2-py2.py3-none-any.whl (42 kB)\n",
      "     ---------------------------------------- 42.6/42.6 kB 2.2 MB/s eta 0:00:00\n",
      "Requirement already satisfied: regex!=2019.12.17 in c:\\users\\hmk41\\appdata\\roaming\\python\\python37\\site-packages (from transformers==2.8.0) (2022.4.24)\n",
      "Requirement already satisfied: filelock in c:\\users\\hmk41\\appdata\\roaming\\python\\python37\\site-packages (from transformers==2.8.0) (3.4.0)\n",
      "Requirement already satisfied: tqdm>=4.27 in c:\\users\\hmk41\\appdata\\roaming\\python\\python37\\site-packages (from transformers==2.8.0) (4.56.0)\n",
      "Requirement already satisfied: requests in c:\\users\\hmk41\\appdata\\roaming\\python\\python37\\site-packages (from transformers==2.8.0) (2.26.0)\n",
      "Collecting tokenizers==0.5.2\n",
      "  Downloading tokenizers-0.5.2-cp37-cp37m-win_amd64.whl (1.0 MB)\n",
      "     ---------------------------------------- 1.0/1.0 MB 8.3 MB/s eta 0:00:00\n",
      "Collecting boto3\n",
      "  Downloading boto3-1.24.0-py3-none-any.whl (132 kB)\n",
      "     -------------------------------------- 132.5/132.5 kB 7.6 MB/s eta 0:00:00\n",
      "Collecting sentencepiece\n",
      "  Downloading sentencepiece-0.1.96-cp37-cp37m-win_amd64.whl (1.1 MB)\n",
      "     ---------------------------------------- 1.1/1.1 MB 6.3 MB/s eta 0:00:00\n",
      "Collecting sacremoses\n",
      "  Downloading sacremoses-0.0.53.tar.gz (880 kB)\n",
      "     -------------------------------------- 880.6/880.6 kB 7.0 MB/s eta 0:00:00\n",
      "  Preparing metadata (setup.py): started\n",
      "  Preparing metadata (setup.py): finished with status 'done'\n",
      "Collecting h5py\n",
      "  Downloading h5py-3.7.0-cp37-cp37m-win_amd64.whl (2.6 MB)\n",
      "     ---------------------------------------- 2.6/2.6 MB 7.6 MB/s eta 0:00:00\n",
      "Collecting werkzeug>=0.11.15\n",
      "  Downloading Werkzeug-2.1.2-py3-none-any.whl (224 kB)\n",
      "     -------------------------------------- 224.9/224.9 kB 4.6 MB/s eta 0:00:00\n",
      "Collecting markdown>=2.6.8\n",
      "  Downloading Markdown-3.3.7-py3-none-any.whl (97 kB)\n",
      "     ---------------------------------------- 97.8/97.8 kB 2.8 MB/s eta 0:00:00\n",
      "Collecting google-auth<2,>=1.6.3\n",
      "  Downloading google_auth-1.35.0-py2.py3-none-any.whl (152 kB)\n",
      "     -------------------------------------- 152.9/152.9 kB 3.1 MB/s eta 0:00:00\n",
      "Collecting google-auth-oauthlib<0.5,>=0.4.1\n",
      "  Downloading google_auth_oauthlib-0.4.6-py2.py3-none-any.whl (18 kB)\n",
      "Requirement already satisfied: setuptools>=41.0.0 in c:\\program files\\python37\\lib\\site-packages (from tensorboard<2.1.0,>=2.0.0->tensorflow==2.0) (47.1.0)\n",
      "Requirement already satisfied: idna<4,>=2.5 in c:\\users\\hmk41\\appdata\\roaming\\python\\python37\\site-packages (from requests->transformers==2.8.0) (3.2)\n",
      "Requirement already satisfied: urllib3<1.27,>=1.21.1 in c:\\users\\hmk41\\appdata\\roaming\\python\\python37\\site-packages (from requests->transformers==2.8.0) (1.26.6)\n",
      "Requirement already satisfied: charset-normalizer~=2.0.0 in c:\\users\\hmk41\\appdata\\roaming\\python\\python37\\site-packages (from requests->transformers==2.8.0) (2.0.4)\n",
      "Requirement already satisfied: certifi>=2017.4.17 in c:\\users\\hmk41\\appdata\\roaming\\python\\python37\\site-packages (from requests->transformers==2.8.0) (2021.5.30)\n",
      "Collecting botocore<1.28.0,>=1.27.0\n",
      "  Downloading botocore-1.27.0-py3-none-any.whl (8.8 MB)\n",
      "     ---------------------------------------- 8.8/8.8 MB 6.6 MB/s eta 0:00:00\n",
      "Collecting jmespath<2.0.0,>=0.7.1\n",
      "  Downloading jmespath-1.0.0-py3-none-any.whl (23 kB)\n",
      "Collecting s3transfer<0.7.0,>=0.6.0\n",
      "  Downloading s3transfer-0.6.0-py3-none-any.whl (79 kB)\n",
      "     ---------------------------------------- 79.6/79.6 kB 2.2 MB/s eta 0:00:00\n",
      "Collecting click\n",
      "  Downloading click-8.1.3-py3-none-any.whl (96 kB)\n",
      "     ---------------------------------------- 96.6/96.6 kB 2.7 MB/s eta 0:00:00\n",
      "Requirement already satisfied: joblib in c:\\users\\hmk41\\appdata\\roaming\\python\\python37\\site-packages (from sacremoses->transformers==2.8.0) (1.0.1)\n",
      "Requirement already satisfied: python-dateutil<3.0.0,>=2.1 in c:\\users\\hmk41\\appdata\\roaming\\python\\python37\\site-packages (from botocore<1.28.0,>=1.27.0->boto3->transformers==2.8.0) (2.8.2)\n",
      "Collecting cachetools<5.0,>=2.0.0\n",
      "  Downloading cachetools-4.2.4-py3-none-any.whl (10 kB)\n",
      "Collecting pyasn1-modules>=0.2.1\n",
      "  Downloading pyasn1_modules-0.2.8-py2.py3-none-any.whl (155 kB)\n",
      "     -------------------------------------- 155.3/155.3 kB 4.7 MB/s eta 0:00:00\n",
      "Collecting rsa<5,>=3.1.4\n",
      "  Downloading rsa-4.8-py3-none-any.whl (39 kB)\n",
      "Collecting requests-oauthlib>=0.7.0\n",
      "  Downloading requests_oauthlib-1.3.1-py2.py3-none-any.whl (23 kB)\n",
      "Collecting importlib-metadata>=4.4\n",
      "  Downloading importlib_metadata-4.11.4-py3-none-any.whl (18 kB)\n",
      "Requirement already satisfied: colorama in c:\\users\\hmk41\\appdata\\roaming\\python\\python37\\site-packages (from click->sacremoses->transformers==2.8.0) (0.4.4)\n",
      "Requirement already satisfied: zipp>=0.5 in c:\\users\\hmk41\\appdata\\roaming\\python\\python37\\site-packages (from importlib-metadata>=4.4->markdown>=2.6.8->tensorboard<2.1.0,>=2.0.0->tensorflow==2.0) (3.5.0)\n",
      "Requirement already satisfied: typing-extensions>=3.6.4 in c:\\users\\hmk41\\appdata\\roaming\\python\\python37\\site-packages (from importlib-metadata>=4.4->markdown>=2.6.8->tensorboard<2.1.0,>=2.0.0->tensorflow==2.0) (3.10.0.0)\n",
      "Collecting pyasn1<0.5.0,>=0.4.6\n",
      "  Downloading pyasn1-0.4.8-py2.py3-none-any.whl (77 kB)\n",
      "     ---------------------------------------- 77.1/77.1 kB 4.2 MB/s eta 0:00:00\n",
      "Collecting oauthlib>=3.0.0\n",
      "  Downloading oauthlib-3.2.0-py3-none-any.whl (151 kB)\n",
      "     -------------------------------------- 151.5/151.5 kB 8.8 MB/s eta 0:00:00\n",
      "Building wheels for collected packages: gast, termcolor, sacremoses\n",
      "  Building wheel for gast (setup.py): started\n",
      "  Building wheel for gast (setup.py): finished with status 'done'\n",
      "  Created wheel for gast: filename=gast-0.2.2-py3-none-any.whl size=7540 sha256=cfb3084d49248c77d67540cfa40b4076246d5fbaeb54755dfdf91752de81543a\n",
      "  Stored in directory: c:\\users\\hmk41\\appdata\\local\\pip\\cache\\wheels\\21\\7f\\02\\420f32a803f7d0967b48dd823da3f558c5166991bfd204eef3\n",
      "  Building wheel for termcolor (setup.py): started\n",
      "  Building wheel for termcolor (setup.py): finished with status 'done'\n",
      "  Created wheel for termcolor: filename=termcolor-1.1.0-py3-none-any.whl size=4830 sha256=f1ec8cd733e3b09f2b292050c73de62cd58ccf9ac08a8d5b98548cc71823d99c\n",
      "  Stored in directory: c:\\users\\hmk41\\appdata\\local\\pip\\cache\\wheels\\3f\\e3\\ec\\8a8336ff196023622fbcb36de0c5a5c218cbb24111d1d4c7f2\n",
      "  Building wheel for sacremoses (setup.py): started\n",
      "  Building wheel for sacremoses (setup.py): finished with status 'done'\n",
      "  Created wheel for sacremoses: filename=sacremoses-0.0.53-py3-none-any.whl size=895254 sha256=0ab181d46dbf566b9a187c136999a3d7c8680f9e3d9649f1c91a463bd19fb301\n",
      "  Stored in directory: c:\\users\\hmk41\\appdata\\local\\pip\\cache\\wheels\\87\\39\\dd\\a83eeef36d0bf98e7a4d1933a4ad2d660295a40613079bafc9\n",
      "Successfully built gast termcolor sacremoses\n",
      "Installing collected packages: tokenizers, termcolor, tensorflow-estimator, sentencepiece, pyasn1, wrapt, werkzeug, rsa, pyasn1-modules, opt-einsum, oauthlib, keras-preprocessing, jmespath, importlib-metadata, h5py, grpcio, google-pasta, gast, cachetools, astor, absl-py, requests-oauthlib, markdown, keras-applications, google-auth, click, botocore, sacremoses, s3transfer, google-auth-oauthlib, tensorboard, boto3, transformers, tensorflow\n",
      "  Attempting uninstall: tokenizers\n",
      "    Found existing installation: tokenizers 0.12.1\n",
      "    Uninstalling tokenizers-0.12.1:\n",
      "      Successfully uninstalled tokenizers-0.12.1\n"
     ]
    },
    {
     "name": "stderr",
     "output_type": "stream",
     "text": [
      "\n",
      "Check the permissions.\n",
      "\n"
     ]
    }
   ],
   "source": [
    "pip install tensorflow==2.0 transformers==2.8.0"
   ]
  },
  {
   "cell_type": "code",
   "execution_count": 20,
   "id": "f48e741a",
   "metadata": {},
   "outputs": [
    {
     "ename": "ImportError",
     "evalue": "cannot import name 'AutoModel' from 'transformers.models.auto' (C:\\Users\\hmk41\\AppData\\Roaming\\Python\\Python37\\site-packages\\transformers\\models\\auto\\__init__.py)",
     "output_type": "error",
     "traceback": [
      "\u001b[1;31m---------------------------------------------------------------------------\u001b[0m",
      "\u001b[1;31mImportError\u001b[0m                               Traceback (most recent call last)",
      "\u001b[1;32m~\\AppData\\Local\\Temp/ipykernel_14832/2343318601.py\u001b[0m in \u001b[0;36m<module>\u001b[1;34m\u001b[0m\n\u001b[1;32m----> 1\u001b[1;33m \u001b[1;32mfrom\u001b[0m \u001b[0mtransformers4rec\u001b[0m \u001b[1;32mimport\u001b[0m \u001b[0mtorch\u001b[0m \u001b[1;32mas\u001b[0m \u001b[0mtr\u001b[0m\u001b[1;33m\u001b[0m\u001b[1;33m\u001b[0m\u001b[0m\n\u001b[0m\u001b[0;32m      2\u001b[0m \u001b[1;33m\u001b[0m\u001b[0m\n\u001b[0;32m      3\u001b[0m \u001b[0mschema\u001b[0m\u001b[1;33m:\u001b[0m \u001b[0mtr\u001b[0m\u001b[1;33m.\u001b[0m\u001b[0mSchema\u001b[0m \u001b[1;33m=\u001b[0m \u001b[0mtr\u001b[0m\u001b[1;33m.\u001b[0m\u001b[0mdata\u001b[0m\u001b[1;33m.\u001b[0m\u001b[0mtabular_sequence_testing_data\u001b[0m\u001b[1;33m.\u001b[0m\u001b[0mschema\u001b[0m\u001b[1;33m\u001b[0m\u001b[1;33m\u001b[0m\u001b[0m\n\u001b[0;32m      4\u001b[0m \u001b[1;31m# Or read schema from disk: tr.Schema().from_json(SCHEMA_PATH)\u001b[0m\u001b[1;33m\u001b[0m\u001b[1;33m\u001b[0m\u001b[1;33m\u001b[0m\u001b[0m\n\u001b[0;32m      5\u001b[0m \u001b[0mmax_sequence_length\u001b[0m\u001b[1;33m,\u001b[0m \u001b[0md_model\u001b[0m \u001b[1;33m=\u001b[0m \u001b[1;36m20\u001b[0m\u001b[1;33m,\u001b[0m \u001b[1;36m64\u001b[0m\u001b[1;33m\u001b[0m\u001b[1;33m\u001b[0m\u001b[0m\n",
      "\u001b[1;32m~\\AppData\\Roaming\\Python\\Python37\\site-packages\\transformers4rec\\torch\\__init__.py\u001b[0m in \u001b[0;36m<module>\u001b[1;34m\u001b[0m\n\u001b[0;32m     29\u001b[0m     \u001b[0mXLNetConfig\u001b[0m\u001b[1;33m,\u001b[0m\u001b[1;33m\u001b[0m\u001b[1;33m\u001b[0m\u001b[0m\n\u001b[0;32m     30\u001b[0m )\n\u001b[1;32m---> 31\u001b[1;33m \u001b[1;32mfrom\u001b[0m \u001b[1;33m.\u001b[0m \u001b[1;32mimport\u001b[0m \u001b[0mranking_metric\u001b[0m\u001b[1;33m\u001b[0m\u001b[1;33m\u001b[0m\u001b[0m\n\u001b[0m\u001b[0;32m     32\u001b[0m \u001b[1;33m\u001b[0m\u001b[0m\n\u001b[0;32m     33\u001b[0m \u001b[1;31m# Block related imports\u001b[0m\u001b[1;33m\u001b[0m\u001b[1;33m\u001b[0m\u001b[1;33m\u001b[0m\u001b[0m\n",
      "\u001b[1;32m~\\AppData\\Roaming\\Python\\Python37\\site-packages\\transformers4rec\\torch\\ranking_metric.py\u001b[0m in \u001b[0;36m<module>\u001b[1;34m\u001b[0m\n\u001b[0;32m     19\u001b[0m \u001b[1;33m\u001b[0m\u001b[0m\n\u001b[0;32m     20\u001b[0m \u001b[1;32mimport\u001b[0m \u001b[0mtorch\u001b[0m\u001b[1;33m\u001b[0m\u001b[1;33m\u001b[0m\u001b[0m\n\u001b[1;32m---> 21\u001b[1;33m \u001b[1;32mimport\u001b[0m \u001b[0mtorchmetrics\u001b[0m \u001b[1;32mas\u001b[0m \u001b[0mtm\u001b[0m\u001b[1;33m\u001b[0m\u001b[1;33m\u001b[0m\u001b[0m\n\u001b[0m\u001b[0;32m     22\u001b[0m \u001b[1;33m\u001b[0m\u001b[0m\n\u001b[0;32m     23\u001b[0m \u001b[1;32mfrom\u001b[0m \u001b[0mmerlin_standard_lib\u001b[0m \u001b[1;32mimport\u001b[0m \u001b[0mRegistry\u001b[0m\u001b[1;33m\u001b[0m\u001b[1;33m\u001b[0m\u001b[0m\n",
      "\u001b[1;32m~\\AppData\\Roaming\\Python\\Python37\\site-packages\\torchmetrics\\__init__.py\u001b[0m in \u001b[0;36m<module>\u001b[1;34m\u001b[0m\n\u001b[0;32m     12\u001b[0m \u001b[0m_PROJECT_ROOT\u001b[0m \u001b[1;33m=\u001b[0m \u001b[0mos\u001b[0m\u001b[1;33m.\u001b[0m\u001b[0mpath\u001b[0m\u001b[1;33m.\u001b[0m\u001b[0mdirname\u001b[0m\u001b[1;33m(\u001b[0m\u001b[0m_PACKAGE_ROOT\u001b[0m\u001b[1;33m)\u001b[0m\u001b[1;33m\u001b[0m\u001b[1;33m\u001b[0m\u001b[0m\n\u001b[0;32m     13\u001b[0m \u001b[1;33m\u001b[0m\u001b[0m\n\u001b[1;32m---> 14\u001b[1;33m \u001b[1;32mfrom\u001b[0m \u001b[0mtorchmetrics\u001b[0m \u001b[1;32mimport\u001b[0m \u001b[0mfunctional\u001b[0m  \u001b[1;31m# noqa: E402\u001b[0m\u001b[1;33m\u001b[0m\u001b[1;33m\u001b[0m\u001b[0m\n\u001b[0m\u001b[0;32m     15\u001b[0m \u001b[1;32mfrom\u001b[0m \u001b[0mtorchmetrics\u001b[0m\u001b[1;33m.\u001b[0m\u001b[0maggregation\u001b[0m \u001b[1;32mimport\u001b[0m \u001b[0mCatMetric\u001b[0m\u001b[1;33m,\u001b[0m \u001b[0mMaxMetric\u001b[0m\u001b[1;33m,\u001b[0m \u001b[0mMeanMetric\u001b[0m\u001b[1;33m,\u001b[0m \u001b[0mMinMetric\u001b[0m\u001b[1;33m,\u001b[0m \u001b[0mSumMetric\u001b[0m  \u001b[1;31m# noqa: E402\u001b[0m\u001b[1;33m\u001b[0m\u001b[1;33m\u001b[0m\u001b[0m\n\u001b[0;32m     16\u001b[0m from torchmetrics.audio import (  # noqa: E402\n",
      "\u001b[1;32m~\\AppData\\Roaming\\Python\\Python37\\site-packages\\torchmetrics\\functional\\__init__.py\u001b[0m in \u001b[0;36m<module>\u001b[1;34m\u001b[0m\n\u001b[0;32m     79\u001b[0m \u001b[1;32mfrom\u001b[0m \u001b[0mtorchmetrics\u001b[0m\u001b[1;33m.\u001b[0m\u001b[0mfunctional\u001b[0m\u001b[1;33m.\u001b[0m\u001b[0mtext\u001b[0m\u001b[1;33m.\u001b[0m\u001b[0meed\u001b[0m \u001b[1;32mimport\u001b[0m \u001b[0mextended_edit_distance\u001b[0m\u001b[1;33m\u001b[0m\u001b[1;33m\u001b[0m\u001b[0m\n\u001b[0;32m     80\u001b[0m \u001b[1;32mfrom\u001b[0m \u001b[0mtorchmetrics\u001b[0m\u001b[1;33m.\u001b[0m\u001b[0mfunctional\u001b[0m\u001b[1;33m.\u001b[0m\u001b[0mtext\u001b[0m\u001b[1;33m.\u001b[0m\u001b[0mmer\u001b[0m \u001b[1;32mimport\u001b[0m \u001b[0mmatch_error_rate\u001b[0m\u001b[1;33m\u001b[0m\u001b[1;33m\u001b[0m\u001b[0m\n\u001b[1;32m---> 81\u001b[1;33m \u001b[1;32mfrom\u001b[0m \u001b[0mtorchmetrics\u001b[0m\u001b[1;33m.\u001b[0m\u001b[0mfunctional\u001b[0m\u001b[1;33m.\u001b[0m\u001b[0mtext\u001b[0m\u001b[1;33m.\u001b[0m\u001b[0mrouge\u001b[0m \u001b[1;32mimport\u001b[0m \u001b[0mrouge_score\u001b[0m\u001b[1;33m\u001b[0m\u001b[1;33m\u001b[0m\u001b[0m\n\u001b[0m\u001b[0;32m     82\u001b[0m \u001b[1;32mfrom\u001b[0m \u001b[0mtorchmetrics\u001b[0m\u001b[1;33m.\u001b[0m\u001b[0mfunctional\u001b[0m\u001b[1;33m.\u001b[0m\u001b[0mtext\u001b[0m\u001b[1;33m.\u001b[0m\u001b[0msacre_bleu\u001b[0m \u001b[1;32mimport\u001b[0m \u001b[0msacre_bleu_score\u001b[0m\u001b[1;33m\u001b[0m\u001b[1;33m\u001b[0m\u001b[0m\n\u001b[0;32m     83\u001b[0m \u001b[1;32mfrom\u001b[0m \u001b[0mtorchmetrics\u001b[0m\u001b[1;33m.\u001b[0m\u001b[0mfunctional\u001b[0m\u001b[1;33m.\u001b[0m\u001b[0mtext\u001b[0m\u001b[1;33m.\u001b[0m\u001b[0msquad\u001b[0m \u001b[1;32mimport\u001b[0m \u001b[0msquad\u001b[0m\u001b[1;33m\u001b[0m\u001b[1;33m\u001b[0m\u001b[0m\n",
      "\u001b[1;32m~\\AppData\\Roaming\\Python\\Python37\\site-packages\\torchmetrics\\functional\\text\\__init__.py\u001b[0m in \u001b[0;36m<module>\u001b[1;34m\u001b[0m\n\u001b[0;32m     27\u001b[0m \u001b[1;33m\u001b[0m\u001b[0m\n\u001b[0;32m     28\u001b[0m \u001b[1;32mif\u001b[0m \u001b[0m_TRANSFORMERS_AUTO_AVAILABLE\u001b[0m\u001b[1;33m:\u001b[0m\u001b[1;33m\u001b[0m\u001b[1;33m\u001b[0m\u001b[0m\n\u001b[1;32m---> 29\u001b[1;33m     \u001b[1;32mfrom\u001b[0m \u001b[0mtorchmetrics\u001b[0m\u001b[1;33m.\u001b[0m\u001b[0mfunctional\u001b[0m\u001b[1;33m.\u001b[0m\u001b[0mtext\u001b[0m\u001b[1;33m.\u001b[0m\u001b[0mbert\u001b[0m \u001b[1;32mimport\u001b[0m \u001b[0mbert_score\u001b[0m  \u001b[1;31m# noqa: F401\u001b[0m\u001b[1;33m\u001b[0m\u001b[1;33m\u001b[0m\u001b[0m\n\u001b[0m\u001b[0;32m     30\u001b[0m \u001b[1;33m\u001b[0m\u001b[0m\n\u001b[0;32m     31\u001b[0m \u001b[1;32mif\u001b[0m \u001b[0m_NLTK_AVAILABLE\u001b[0m\u001b[1;33m:\u001b[0m\u001b[1;33m\u001b[0m\u001b[1;33m\u001b[0m\u001b[0m\n",
      "\u001b[1;32m~\\AppData\\Roaming\\Python\\Python37\\site-packages\\torchmetrics\\functional\\text\\bert.py\u001b[0m in \u001b[0;36m<module>\u001b[1;34m\u001b[0m\n\u001b[0;32m     27\u001b[0m \u001b[1;33m\u001b[0m\u001b[0m\n\u001b[0;32m     28\u001b[0m \u001b[1;32mif\u001b[0m \u001b[0m_TRANSFORMERS_AUTO_AVAILABLE\u001b[0m\u001b[1;33m:\u001b[0m\u001b[1;33m\u001b[0m\u001b[1;33m\u001b[0m\u001b[0m\n\u001b[1;32m---> 29\u001b[1;33m     \u001b[1;32mfrom\u001b[0m \u001b[0mtransformers\u001b[0m\u001b[1;33m.\u001b[0m\u001b[0mmodels\u001b[0m\u001b[1;33m.\u001b[0m\u001b[0mauto\u001b[0m \u001b[1;32mimport\u001b[0m \u001b[0mAutoModel\u001b[0m\u001b[1;33m,\u001b[0m \u001b[0mAutoTokenizer\u001b[0m\u001b[1;33m\u001b[0m\u001b[1;33m\u001b[0m\u001b[0m\n\u001b[0m\u001b[0;32m     30\u001b[0m \u001b[1;32melse\u001b[0m\u001b[1;33m:\u001b[0m\u001b[1;33m\u001b[0m\u001b[1;33m\u001b[0m\u001b[0m\n\u001b[0;32m     31\u001b[0m     \u001b[0m__doctest_skip__\u001b[0m \u001b[1;33m=\u001b[0m \u001b[1;33m[\u001b[0m\u001b[1;34m\"bert_score\"\u001b[0m\u001b[1;33m]\u001b[0m\u001b[1;33m\u001b[0m\u001b[1;33m\u001b[0m\u001b[0m\n",
      "\u001b[1;31mImportError\u001b[0m: cannot import name 'AutoModel' from 'transformers.models.auto' (C:\\Users\\hmk41\\AppData\\Roaming\\Python\\Python37\\site-packages\\transformers\\models\\auto\\__init__.py)"
     ]
    }
   ],
   "source": [
    "from transformers4rec import torch as tr\n",
    "\n",
    "schema: tr.Schema = tr.data.tabular_sequence_testing_data.schema\n",
    "# Or read schema from disk: tr.Schema().from_json(SCHEMA_PATH)\n",
    "max_sequence_length, d_model = 20, 64\n",
    "\n",
    "# Define input module to process tabular input-features\n",
    "input_module = tr.TabularSequenceFeatures.from_schema(\n",
    "    schema,\n",
    "    max_sequence_length=max_sequence_length,\n",
    "    continuous_projection=d_model,\n",
    "    aggregation=\"concat\",\n",
    "    masking=\"causal\",\n",
    ")\n",
    "# Define one or multiple prediction-tasks\n",
    "prediction_tasks = tr.NextItemPredictionTask()\n",
    "\n",
    "# Define a transformer-config, like the XLNet architecture\n",
    "transformer_config = tr.XLNetConfig.build(\n",
    "    d_model=d_model, n_head=4, n_layer=2, total_seq_length=max_sequence_length\n",
    ")\n",
    "model: tr.Model = transformer_config.to_torch_model(input_module, prediction_tasks)"
   ]
  },
  {
   "cell_type": "code",
   "execution_count": 1,
   "id": "913fdf7e",
   "metadata": {},
   "outputs": [
    {
     "ename": "NameError",
     "evalue": "name 'tr' is not defined",
     "output_type": "error",
     "traceback": [
      "\u001b[1;31m---------------------------------------------------------------------------\u001b[0m",
      "\u001b[1;31mNameError\u001b[0m                                 Traceback (most recent call last)",
      "\u001b[1;32m~\\AppData\\Local\\Temp/ipykernel_14832/1310271151.py\u001b[0m in \u001b[0;36m<module>\u001b[1;34m\u001b[0m\n\u001b[1;32m----> 1\u001b[1;33m transformer_config = tr.XLNetConfig.build(\n\u001b[0m\u001b[0;32m      2\u001b[0m     \u001b[0md_model\u001b[0m\u001b[1;33m=\u001b[0m\u001b[1;36m64\u001b[0m\u001b[1;33m,\u001b[0m \u001b[0mn_head\u001b[0m\u001b[1;33m=\u001b[0m\u001b[1;36m4\u001b[0m\u001b[1;33m,\u001b[0m \u001b[0mn_layer\u001b[0m\u001b[1;33m=\u001b[0m\u001b[1;36m2\u001b[0m\u001b[1;33m,\u001b[0m \u001b[0mtotal_seq_length\u001b[0m\u001b[1;33m=\u001b[0m\u001b[1;36m20\u001b[0m\u001b[1;33m\u001b[0m\u001b[1;33m\u001b[0m\u001b[0m\n\u001b[0;32m      3\u001b[0m )\n\u001b[0;32m      4\u001b[0m \u001b[1;31m# Define the model block including: inputs, masking and transformer block.\u001b[0m\u001b[1;33m\u001b[0m\u001b[1;33m\u001b[0m\u001b[1;33m\u001b[0m\u001b[0m\n\u001b[0;32m      5\u001b[0m body = tr.SequentialBlock(\n",
      "\u001b[1;31mNameError\u001b[0m: name 'tr' is not defined"
     ]
    }
   ],
   "source": [
    "transformer_config = tr.XLNetConfig.build(\n",
    "    d_model=64, n_head=4, n_layer=2, total_seq_length=20\n",
    ")\n",
    "# Define the model block including: inputs, masking and transformer block.\n",
    "body = tr.SequentialBlock(\n",
    "    input_module, \n",
    "    tr.MLPBlock([128, 64]),\n",
    "    tr.TransformerBlock(transformer_config, masking=inputs.masking)\n",
    ")"
   ]
  },
  {
   "cell_type": "code",
   "execution_count": null,
   "id": "3428787c",
   "metadata": {},
   "outputs": [],
   "source": []
  }
 ],
 "metadata": {
  "kernelspec": {
   "display_name": "Python 3 (ipykernel)",
   "language": "python",
   "name": "python3"
  },
  "language_info": {
   "codemirror_mode": {
    "name": "ipython",
    "version": 3
   },
   "file_extension": ".py",
   "mimetype": "text/x-python",
   "name": "python",
   "nbconvert_exporter": "python",
   "pygments_lexer": "ipython3",
   "version": "3.10.4"
  }
 },
 "nbformat": 4,
 "nbformat_minor": 5
}
