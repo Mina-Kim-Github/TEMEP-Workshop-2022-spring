{
 "cells": [
  {
   "cell_type": "code",
   "execution_count": 20,
   "id": "3d6defa0",
   "metadata": {},
   "outputs": [],
   "source": [
    "from collections import Counter\n",
    "import warnings\n",
    "warnings.filterwarnings(action='ignore')\n",
    "\n",
    "import numpy as np\n",
    "import pandas as pd\n",
    "from pandas.api.types import is_numeric_dtype\n",
    "import matplotlib.pyplot as plt\n",
    "from sklearn.linear_model import LogisticRegression\n",
    "from sklearn.discriminant_analysis import LinearDiscriminantAnalysis, QuadraticDiscriminantAnalysis\n",
    "from sklearn.tree import DecisionTreeClassifier, plot_tree\n",
    "from sklearn.naive_bayes import GaussianNB\n",
    "from sklearn.svm import SVC\n",
    "from sklearn.ensemble import RandomForestClassifier, AdaBoostClassifier, GradientBoostingClassifier\n",
    "from sklearn.model_selection import train_test_split\n",
    "from sklearn.metrics import classification_report\n",
    "from sklearn.preprocessing import OneHotEncoder\n",
    "%matplotlib inline\n",
    "\n",
    "from sklearn import svm\n",
    "\n",
    "plt.rcParams[\"figure.figsize\"] = (10, 10)\n",
    "plt.rcParams[\"font.family\"] = 'NanumGothicCoding'\n",
    "\n",
    "from visualize import plot_confusion_matrix\n",
    "\n",
    "from sklearn.metrics import precision_score, recall_score, accuracy_score, f1_score\n",
    "from sklearn.preprocessing import StandardScaler\n",
    "from sklearn.pipeline import Pipeline\n",
    "\n",
    "from pandas import DataFrame"
   ]
  },
  {
   "cell_type": "code",
   "execution_count": 21,
   "id": "565d31b5",
   "metadata": {},
   "outputs": [
    {
     "name": "stdout",
     "output_type": "stream",
     "text": [
      "(4128, 37)\n"
     ]
    },
    {
     "data": {
      "text/html": [
       "<div>\n",
       "<style scoped>\n",
       "    .dataframe tbody tr th:only-of-type {\n",
       "        vertical-align: middle;\n",
       "    }\n",
       "\n",
       "    .dataframe tbody tr th {\n",
       "        vertical-align: top;\n",
       "    }\n",
       "\n",
       "    .dataframe thead th {\n",
       "        text-align: right;\n",
       "    }\n",
       "</style>\n",
       "<table border=\"1\" class=\"dataframe\">\n",
       "  <thead>\n",
       "    <tr style=\"text-align: right;\">\n",
       "      <th></th>\n",
       "      <th>policy</th>\n",
       "      <th>eco</th>\n",
       "      <th>tech</th>\n",
       "      <th>age</th>\n",
       "      <th>gender</th>\n",
       "      <th>owning</th>\n",
       "      <th>mileage</th>\n",
       "      <th>family</th>\n",
       "      <th>job</th>\n",
       "      <th>wealth</th>\n",
       "      <th>...</th>\n",
       "      <th>card3_fueltype</th>\n",
       "      <th>card3_class</th>\n",
       "      <th>card3_infra</th>\n",
       "      <th>card3_fuelcost</th>\n",
       "      <th>card3_price</th>\n",
       "      <th>card4_fueltype</th>\n",
       "      <th>card4_class</th>\n",
       "      <th>card4_infra</th>\n",
       "      <th>card4_fuelcost</th>\n",
       "      <th>card4_price</th>\n",
       "    </tr>\n",
       "  </thead>\n",
       "  <tbody>\n",
       "    <tr>\n",
       "      <th>0</th>\n",
       "      <td>3</td>\n",
       "      <td>3</td>\n",
       "      <td>2</td>\n",
       "      <td>31</td>\n",
       "      <td>1</td>\n",
       "      <td>1</td>\n",
       "      <td>10000</td>\n",
       "      <td>3</td>\n",
       "      <td>3</td>\n",
       "      <td>7</td>\n",
       "      <td>...</td>\n",
       "      <td>2</td>\n",
       "      <td>1</td>\n",
       "      <td>50</td>\n",
       "      <td>100</td>\n",
       "      <td>4000</td>\n",
       "      <td>3</td>\n",
       "      <td>0</td>\n",
       "      <td>100</td>\n",
       "      <td>100</td>\n",
       "      <td>4000</td>\n",
       "    </tr>\n",
       "    <tr>\n",
       "      <th>1</th>\n",
       "      <td>3</td>\n",
       "      <td>3</td>\n",
       "      <td>2</td>\n",
       "      <td>31</td>\n",
       "      <td>1</td>\n",
       "      <td>1</td>\n",
       "      <td>10000</td>\n",
       "      <td>3</td>\n",
       "      <td>3</td>\n",
       "      <td>7</td>\n",
       "      <td>...</td>\n",
       "      <td>2</td>\n",
       "      <td>1</td>\n",
       "      <td>50</td>\n",
       "      <td>50</td>\n",
       "      <td>4000</td>\n",
       "      <td>3</td>\n",
       "      <td>0</td>\n",
       "      <td>100</td>\n",
       "      <td>50</td>\n",
       "      <td>4000</td>\n",
       "    </tr>\n",
       "    <tr>\n",
       "      <th>2</th>\n",
       "      <td>3</td>\n",
       "      <td>3</td>\n",
       "      <td>2</td>\n",
       "      <td>31</td>\n",
       "      <td>1</td>\n",
       "      <td>1</td>\n",
       "      <td>10000</td>\n",
       "      <td>3</td>\n",
       "      <td>3</td>\n",
       "      <td>7</td>\n",
       "      <td>...</td>\n",
       "      <td>2</td>\n",
       "      <td>1</td>\n",
       "      <td>100</td>\n",
       "      <td>50</td>\n",
       "      <td>5000</td>\n",
       "      <td>3</td>\n",
       "      <td>1</td>\n",
       "      <td>100</td>\n",
       "      <td>150</td>\n",
       "      <td>3000</td>\n",
       "    </tr>\n",
       "    <tr>\n",
       "      <th>3</th>\n",
       "      <td>3</td>\n",
       "      <td>3</td>\n",
       "      <td>2</td>\n",
       "      <td>31</td>\n",
       "      <td>1</td>\n",
       "      <td>1</td>\n",
       "      <td>10000</td>\n",
       "      <td>3</td>\n",
       "      <td>3</td>\n",
       "      <td>7</td>\n",
       "      <td>...</td>\n",
       "      <td>2</td>\n",
       "      <td>1</td>\n",
       "      <td>100</td>\n",
       "      <td>150</td>\n",
       "      <td>5000</td>\n",
       "      <td>3</td>\n",
       "      <td>0</td>\n",
       "      <td>50</td>\n",
       "      <td>150</td>\n",
       "      <td>5000</td>\n",
       "    </tr>\n",
       "    <tr>\n",
       "      <th>4</th>\n",
       "      <td>3</td>\n",
       "      <td>3</td>\n",
       "      <td>2</td>\n",
       "      <td>31</td>\n",
       "      <td>1</td>\n",
       "      <td>1</td>\n",
       "      <td>10000</td>\n",
       "      <td>3</td>\n",
       "      <td>3</td>\n",
       "      <td>7</td>\n",
       "      <td>...</td>\n",
       "      <td>2</td>\n",
       "      <td>0</td>\n",
       "      <td>100</td>\n",
       "      <td>100</td>\n",
       "      <td>2000</td>\n",
       "      <td>3</td>\n",
       "      <td>1</td>\n",
       "      <td>100</td>\n",
       "      <td>50</td>\n",
       "      <td>3000</td>\n",
       "    </tr>\n",
       "  </tbody>\n",
       "</table>\n",
       "<p>5 rows × 37 columns</p>\n",
       "</div>"
      ],
      "text/plain": [
       "   policy  eco  tech  age  gender  owning  mileage  family  job  wealth  ...  \\\n",
       "0       3    3     2   31       1       1    10000       3    3       7  ...   \n",
       "1       3    3     2   31       1       1    10000       3    3       7  ...   \n",
       "2       3    3     2   31       1       1    10000       3    3       7  ...   \n",
       "3       3    3     2   31       1       1    10000       3    3       7  ...   \n",
       "4       3    3     2   31       1       1    10000       3    3       7  ...   \n",
       "\n",
       "   card3_fueltype  card3_class  card3_infra  card3_fuelcost  card3_price  \\\n",
       "0               2            1           50             100         4000   \n",
       "1               2            1           50              50         4000   \n",
       "2               2            1          100              50         5000   \n",
       "3               2            1          100             150         5000   \n",
       "4               2            0          100             100         2000   \n",
       "\n",
       "   card4_fueltype  card4_class  card4_infra  card4_fuelcost  card4_price  \n",
       "0               3            0          100             100         4000  \n",
       "1               3            0          100              50         4000  \n",
       "2               3            1          100             150         3000  \n",
       "3               3            0           50             150         5000  \n",
       "4               3            1          100              50         3000  \n",
       "\n",
       "[5 rows x 37 columns]"
      ]
     },
     "execution_count": 21,
     "metadata": {},
     "output_type": "execute_result"
    }
   ],
   "source": [
    "df = pd.read_csv('Data_workshop.csv')\n",
    "df = df.drop([\n",
    "            'pid',\n",
    "             ],\n",
    "             axis='columns')\n",
    "print(df.shape)\n",
    "df.head()"
   ]
  },
  {
   "cell_type": "code",
   "execution_count": 22,
   "id": "571a1111",
   "metadata": {},
   "outputs": [],
   "source": [
    "NUMERICAL_COLUMNS = [\n",
    "    'policy',\n",
    "    'eco',\n",
    "    'tech',\n",
    "    'age',\n",
    "    'owning',\n",
    "    'mileage',\n",
    "    'family',\n",
    "    'wealth',\n",
    "    'recent_buy',\n",
    "    'oldest_car',\n",
    "\n",
    "    'card1_infra',\n",
    "    'card2_infra',\n",
    "    'card3_infra',\n",
    "    'card4_infra',\n",
    "    'card1_fuelcost',\n",
    "    'card2_fuelcost',\n",
    "    'card3_fuelcost',\n",
    "    'card4_fuelcost',\n",
    "    'card1_price',\n",
    "    'card2_price',\n",
    "    'card3_price',\n",
    "    'card4_price',\n",
    "]\n",
    "\n",
    "CATEGORICAL_COLUMNS= [\n",
    "    'gender',\n",
    "    'job',\n",
    "    'own_sedan',\n",
    "    'own_suv',\n",
    "    'own_ice',\n",
    "    'own_zev',\n",
    "     \n",
    "    'card1_fueltype',\n",
    "    'card2_fueltype',\n",
    "    'card3_fueltype',\n",
    "    'card4_fueltype',\n",
    "    'card1_class',\n",
    "    'card2_class',\n",
    "    'card3_class',\n",
    "    'card4_class',\n",
    "\n",
    "]\n",
    "TARGET_COLUMNS = [\n",
    "    'choice',\n",
    "]"
   ]
  },
  {
   "cell_type": "code",
   "execution_count": 23,
   "id": "290c9278",
   "metadata": {},
   "outputs": [],
   "source": [
    "target_names = [\n",
    "    '10',\n",
    "    '11',\n",
    "    '20',\n",
    "    '21',\n",
    "    '30',\n",
    "    '31',\n",
    "    '40',\n",
    "    '41',\n",
    "]"
   ]
  },
  {
   "cell_type": "code",
   "execution_count": 24,
   "id": "8b2fd463",
   "metadata": {},
   "outputs": [
    {
     "name": "stdout",
     "output_type": "stream",
     "text": [
      "(4128, 53) (4128,)\n"
     ]
    }
   ],
   "source": [
    "#BINARY = False\n",
    "TARGET_COLUMN = TARGET_COLUMNS[0]\n",
    "\n",
    "FEATURE_NAMES = NUMERICAL_COLUMNS[:]\n",
    "X_numerical = df[NUMERICAL_COLUMNS].values\n",
    "\n",
    "num_categories = []\n",
    "X_categorical = []\n",
    "for column in CATEGORICAL_COLUMNS:\n",
    "    df_column = df[column]\n",
    "    X_column = df_column.map({value:i for i, value in enumerate(sorted(list(set(df_column))))}).values\n",
    "    X_categorical.append(X_column.reshape(-1, 1))\n",
    "    num_categories.append(len(set(X_column)))\n",
    "#    print(FEATURE_NAMES)\n",
    "#    print(column)\n",
    "#    print(df_column)\n",
    "    FEATURE_NAMES += [column + '_' + str(value) for value in sorted(list(set(df_column)))]\n",
    "X_categorical = np.hstack(X_categorical)\n",
    "\n",
    "one_hot_encoder = OneHotEncoder()\n",
    "X_categorical = one_hot_encoder.fit_transform(\n",
    "    X_categorical\n",
    ").toarray()\n",
    "assert sum(num_categories) == X_categorical.shape[1]\n",
    "\n",
    "X = np.hstack([X_numerical, X_categorical])\n",
    "assert X.shape[1] == len(FEATURE_NAMES)\n",
    "\n",
    "# if BINARY:\n",
    "#     y = (df[TARGET_COLUMN].values == 4).astype(np.int32)\n",
    "# else:\n",
    "#     y = df[TARGET_COLUMN].values\n",
    "\n",
    "y = df[TARGET_COLUMN]\n",
    "#y, target_names = y.factorize()\n",
    "\n",
    "print(X.shape, y.shape)"
   ]
  },
  {
   "cell_type": "code",
   "execution_count": 25,
   "id": "61e04651",
   "metadata": {},
   "outputs": [
    {
     "data": {
      "text/plain": [
       "Counter({10: 1994, 21: 1252, 30: 243, 11: 368, 20: 90, 31: 130, 41: 6, 40: 45})"
      ]
     },
     "execution_count": 25,
     "metadata": {},
     "output_type": "execute_result"
    }
   ],
   "source": [
    "Counter(y)"
   ]
  },
  {
   "cell_type": "code",
   "execution_count": 26,
   "id": "79058814",
   "metadata": {},
   "outputs": [
    {
     "data": {
      "text/plain": [
       "53"
      ]
     },
     "execution_count": 26,
     "metadata": {},
     "output_type": "execute_result"
    }
   ],
   "source": [
    "len(FEATURE_NAMES)"
   ]
  },
  {
   "cell_type": "code",
   "execution_count": 27,
   "id": "47b4908d",
   "metadata": {},
   "outputs": [],
   "source": [
    "X_train, X_test, y_train, y_test = train_test_split(X, y, test_size=0.3, random_state=0)"
   ]
  },
  {
   "cell_type": "code",
   "execution_count": 28,
   "id": "eb292d7a",
   "metadata": {},
   "outputs": [
    {
     "data": {
      "text/plain": [
       "Counter({10: 603, 21: 359, 11: 105, 40: 15, 20: 28, 30: 76, 31: 50, 41: 3})"
      ]
     },
     "execution_count": 28,
     "metadata": {},
     "output_type": "execute_result"
    }
   ],
   "source": [
    "Counter(y_test)"
   ]
  },
  {
   "cell_type": "code",
   "execution_count": 29,
   "id": "7b5f5821",
   "metadata": {},
   "outputs": [
    {
     "name": "stdout",
     "output_type": "stream",
     "text": [
      "['10', '11', '20', '21', '30', '31', '40', '41']\n"
     ]
    }
   ],
   "source": [
    "print(target_names)"
   ]
  },
  {
   "cell_type": "code",
   "execution_count": 30,
   "id": "c7ec79e7",
   "metadata": {},
   "outputs": [
    {
     "data": {
      "text/plain": [
       "Counter({10: 1391, 21: 893, 30: 167, 11: 263, 20: 62, 40: 30, 41: 3, 31: 80})"
      ]
     },
     "execution_count": 30,
     "metadata": {},
     "output_type": "execute_result"
    }
   ],
   "source": [
    "Counter(y_train)"
   ]
  },
  {
   "cell_type": "code",
   "execution_count": 31,
   "id": "b49005a8",
   "metadata": {},
   "outputs": [],
   "source": [
    "clf = RandomForestClassifier()\n",
    "y_pred = clf.fit(X_train, y_train).predict(X_test)"
   ]
  },
  {
   "cell_type": "code",
   "execution_count": 32,
   "id": "d813a443",
   "metadata": {},
   "outputs": [
    {
     "name": "stdout",
     "output_type": "stream",
     "text": [
      "              precision    recall  f1-score   support\n",
      "\n",
      "          10       0.72      0.91      0.81       603\n",
      "          11       0.67      0.38      0.48       105\n",
      "          20       0.38      0.21      0.27        28\n",
      "          21       0.66      0.64      0.65       359\n",
      "          30       0.19      0.04      0.07        76\n",
      "          31       0.58      0.36      0.44        50\n",
      "          40       0.38      0.20      0.26        15\n",
      "          41       0.00      0.00      0.00         3\n",
      "\n",
      "    accuracy                           0.68      1239\n",
      "   macro avg       0.45      0.34      0.37      1239\n",
      "weighted avg       0.65      0.68      0.65      1239\n",
      "\n"
     ]
    },
    {
     "data": {
      "image/png": "[encoded data removed]",
      "text/plain": [
       "<Figure size 576x432 with 2 Axes>"
      ]
     },
     "metadata": {
      "needs_background": "light"
     },
     "output_type": "display_data"
    }
   ],
   "source": [
    "print(classification_report(y_test, y_pred, target_names=target_names,))\n",
    "plot_confusion_matrix(y_test, y_pred, target_names=target_names, )"
   ]
  },
  {
   "cell_type": "code",
   "execution_count": 33,
   "id": "21255cba",
   "metadata": {},
   "outputs": [],
   "source": [
    "clf = LogisticRegression()\n",
    "y_pred = clf.fit(X_train, y_train).predict(X_test)"
   ]
  },
  {
   "cell_type": "code",
   "execution_count": 34,
   "id": "b29a1952",
   "metadata": {},
   "outputs": [
    {
     "name": "stdout",
     "output_type": "stream",
     "text": [
      "              precision    recall  f1-score   support\n",
      "\n",
      "          10       0.51      0.92      0.66       603\n",
      "          11       0.00      0.00      0.00       105\n",
      "          20       0.00      0.00      0.00        28\n",
      "          21       0.31      0.13      0.18       359\n",
      "          30       0.00      0.00      0.00        76\n",
      "          31       0.00      0.00      0.00        50\n",
      "          40       0.00      0.00      0.00        15\n",
      "          41       0.00      0.00      0.00         3\n",
      "\n",
      "    accuracy                           0.49      1239\n",
      "   macro avg       0.10      0.13      0.10      1239\n",
      "weighted avg       0.34      0.49      0.37      1239\n",
      "\n"
     ]
    },
    {
     "data": {
      "image/png": "[encoded data removed]",
      "text/plain": [
       "<Figure size 576x432 with 2 Axes>"
      ]
     },
     "metadata": {
      "needs_background": "light"
     },
     "output_type": "display_data"
    }
   ],
   "source": [
    "print(classification_report(y_test, y_pred, target_names=target_names,))\n",
    "plot_confusion_matrix(y_test, y_pred, target_names=target_names, )"
   ]
  },
  {
   "cell_type": "markdown",
   "id": "cda3ee28",
   "metadata": {},
   "source": [
    "# Market Simulation"
   ]
  },
  {
   "cell_type": "code",
   "execution_count": 46,
   "id": "5a862a88",
   "metadata": {},
   "outputs": [
    {
     "name": "stdout",
     "output_type": "stream",
     "text": [
      "(516, 36)\n"
     ]
    }
   ],
   "source": [
    "x_simulation = pd.read_csv('Data_marketsimulation_4fueltypes.csv')\n",
    "x_simulation = x_simulation.drop([\n",
    "            'pid',\n",
    "             ],\n",
    "             axis='columns')\n",
    "print(x_simulation.shape)"
   ]
  },
  {
   "cell_type": "code",
   "execution_count": 47,
   "id": "8500f427",
   "metadata": {},
   "outputs": [
    {
     "name": "stdout",
     "output_type": "stream",
     "text": [
      "(516, 53)\n"
     ]
    }
   ],
   "source": [
    "#BINARY = False\n",
    "#TARGET_COLUMN = TARGET_COLUMNS[0]\n",
    "\n",
    "FEATURE_NAMES = NUMERICAL_COLUMNS[:]\n",
    "X_numerical = x_simulation[NUMERICAL_COLUMNS].values\n",
    "\n",
    "num_categories = []\n",
    "X_categorical = []\n",
    "for column in CATEGORICAL_COLUMNS:\n",
    "    df_column = x_simulation[column]\n",
    "    X_column = df_column.map({value:i for i, value in enumerate(sorted(list(set(df_column))))}).values\n",
    "    X_categorical.append(X_column.reshape(-1, 1))\n",
    "    num_categories.append(len(set(X_column)))\n",
    "#    print(FEATURE_NAMES)\n",
    "#    print(column)\n",
    "#    print(df_column)\n",
    "    FEATURE_NAMES += [column + '_' + str(value) for value in sorted(list(set(df_column)))]\n",
    "X_categorical = np.hstack(X_categorical)\n",
    "\n",
    "one_hot_encoder = OneHotEncoder()\n",
    "X_categorical = one_hot_encoder.fit_transform(\n",
    "    X_categorical\n",
    ").toarray()\n",
    "assert sum(num_categories) == X_categorical.shape[1]\n",
    "\n",
    "x_simulation = np.hstack([X_numerical, X_categorical])\n",
    "assert X.shape[1] == len(FEATURE_NAMES)\n",
    "\n",
    "# if BINARY:\n",
    "#     y = (df[TARGET_COLUMN].values == 4).astype(np.int32)\n",
    "# else:\n",
    "#     y = df[TARGET_COLUMN].values\n",
    "\n",
    "#y = df[TARGET_COLUMN]\n",
    "#y, target_names = y.factorize()\n",
    "\n",
    "print(x_simulation.shape)"
   ]
  },
  {
   "cell_type": "code",
   "execution_count": 48,
   "id": "8ec164ed",
   "metadata": {},
   "outputs": [],
   "source": [
    "X_train, X_test, y_train, y_test = train_test_split(X, y, test_size=0.01, random_state=0)"
   ]
  },
  {
   "cell_type": "code",
   "execution_count": 49,
   "id": "74f6f5d3",
   "metadata": {},
   "outputs": [],
   "source": [
    "clf = RandomForestClassifier()\n",
    "y_pred = clf.fit(X_train, y_train).predict(x_simulation)"
   ]
  },
  {
   "cell_type": "code",
   "execution_count": 52,
   "id": "848f3439",
   "metadata": {},
   "outputs": [],
   "source": [
    "df = DataFrame(y_pred)\n",
    "df.to_csv(\"G:\\\\내 드라이브\\\\내 모든 파일들\\\\1_연구\\\\TEMEP\\\\Data and Codes\\\\simulation_result.csv\",header=False,index=False,sep=',')"
   ]
  },
  {
   "cell_type": "code",
   "execution_count": 53,
   "id": "d63f374e",
   "metadata": {},
   "outputs": [
    {
     "data": {
      "text/plain": [
       "Counter({21: 167, 10: 250, 11: 45, 30: 24, 31: 15, 20: 11, 40: 4})"
      ]
     },
     "execution_count": 53,
     "metadata": {},
     "output_type": "execute_result"
    }
   ],
   "source": [
    "Counter(y_pred)"
   ]
  },
  {
   "cell_type": "code",
   "execution_count": 67,
   "id": "d525ee59",
   "metadata": {},
   "outputs": [
    {
     "name": "stdout",
     "output_type": "stream",
     "text": [
      "(516, 36)\n"
     ]
    }
   ],
   "source": [
    "x_simulation_100 = pd.read_csv('Data_marketsimulation_4fueltypes_100.csv')\n",
    "x_simulation_100 = x_simulation_100.drop([\n",
    "            'pid',\n",
    "             ],\n",
    "             axis='columns')\n",
    "print(x_simulation_100.shape)"
   ]
  },
  {
   "cell_type": "code",
   "execution_count": 68,
   "id": "5950235c",
   "metadata": {},
   "outputs": [
    {
     "name": "stdout",
     "output_type": "stream",
     "text": [
      "(516, 53)\n"
     ]
    }
   ],
   "source": [
    "#BINARY = False\n",
    "#TARGET_COLUMN = TARGET_COLUMNS[0]\n",
    "\n",
    "FEATURE_NAMES = NUMERICAL_COLUMNS[:]\n",
    "X_numerical = x_simulation_100[NUMERICAL_COLUMNS].values\n",
    "\n",
    "num_categories = []\n",
    "X_categorical = []\n",
    "for column in CATEGORICAL_COLUMNS:\n",
    "    df_column = x_simulation_100[column]\n",
    "    X_column = df_column.map({value:i for i, value in enumerate(sorted(list(set(df_column))))}).values\n",
    "    X_categorical.append(X_column.reshape(-1, 1))\n",
    "    num_categories.append(len(set(X_column)))\n",
    "#    print(FEATURE_NAMES)\n",
    "#    print(column)\n",
    "#    print(df_column)\n",
    "    FEATURE_NAMES += [column + '_' + str(value) for value in sorted(list(set(df_column)))]\n",
    "X_categorical = np.hstack(X_categorical)\n",
    "\n",
    "one_hot_encoder = OneHotEncoder()\n",
    "X_categorical = one_hot_encoder.fit_transform(\n",
    "    X_categorical\n",
    ").toarray()\n",
    "assert sum(num_categories) == X_categorical.shape[1]\n",
    "\n",
    "x_simulation_100 = np.hstack([X_numerical, X_categorical])\n",
    "assert X.shape[1] == len(FEATURE_NAMES)\n",
    "\n",
    "# if BINARY:\n",
    "#     y = (df[TARGET_COLUMN].values == 4).astype(np.int32)\n",
    "# else:\n",
    "#     y = df[TARGET_COLUMN].values\n",
    "\n",
    "#y = df[TARGET_COLUMN]\n",
    "#y, target_names = y.factorize()\n",
    "\n",
    "print(x_simulation_100.shape)"
   ]
  },
  {
   "cell_type": "code",
   "execution_count": 69,
   "id": "0abac317",
   "metadata": {},
   "outputs": [],
   "source": [
    "clf = RandomForestClassifier()\n",
    "y_pred = clf.fit(X_train, y_train).predict(x_simulation_100)"
   ]
  },
  {
   "cell_type": "code",
   "execution_count": 70,
   "id": "d3d6367b",
   "metadata": {},
   "outputs": [
    {
     "data": {
      "text/plain": [
       "Counter({21: 179, 10: 256, 11: 42, 30: 11, 31: 18, 20: 8, 40: 2})"
      ]
     },
     "execution_count": 70,
     "metadata": {},
     "output_type": "execute_result"
    }
   ],
   "source": [
    "Counter(y_pred)"
   ]
  },
  {
   "cell_type": "code",
   "execution_count": null,
   "id": "9b44e281",
   "metadata": {},
   "outputs": [],
   "source": []
  }
 ],
 "metadata": {
  "kernelspec": {
   "display_name": "Python 3 (ipykernel)",
   "language": "python",
   "name": "python3"
  },
  "language_info": {
   "codemirror_mode": {
    "name": "ipython",
    "version": 3
   },
   "file_extension": ".py",
   "mimetype": "text/x-python",
   "name": "python",
   "nbconvert_exporter": "python",
   "pygments_lexer": "ipython3",
   "version": "3.10.4"
  }
 },
 "nbformat": 4,
 "nbformat_minor": 5
}
